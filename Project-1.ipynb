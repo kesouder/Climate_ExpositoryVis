{
 "cells": [
  {
   "cell_type": "code",
   "execution_count": 1,
   "metadata": {},
   "outputs": [],
   "source": [
    "import pandas as pd\n",
    "import plotly.express as px\n",
    "import matplotlib.pyplot as plt\n",
    "import numpy as np"
   ]
  },
  {
   "cell_type": "code",
   "execution_count": 2,
   "metadata": {},
   "outputs": [
    {
     "data": {
      "text/html": [
       "<div>\n",
       "<style scoped>\n",
       "    .dataframe tbody tr th:only-of-type {\n",
       "        vertical-align: middle;\n",
       "    }\n",
       "\n",
       "    .dataframe tbody tr th {\n",
       "        vertical-align: top;\n",
       "    }\n",
       "\n",
       "    .dataframe thead th {\n",
       "        text-align: right;\n",
       "    }\n",
       "</style>\n",
       "<table border=\"1\" class=\"dataframe\">\n",
       "  <thead>\n",
       "    <tr style=\"text-align: right;\">\n",
       "      <th></th>\n",
       "      <th>city</th>\n",
       "      <th>lat</th>\n",
       "      <th>lon</th>\n",
       "      <th>month</th>\n",
       "      <th>monthnum</th>\n",
       "      <th>sunshine</th>\n",
       "      <th>rain</th>\n",
       "    </tr>\n",
       "  </thead>\n",
       "  <tbody>\n",
       "    <tr>\n",
       "      <th>0</th>\n",
       "      <td>San Diego</td>\n",
       "      <td>32.715736</td>\n",
       "      <td>-117.161087</td>\n",
       "      <td>Jan</td>\n",
       "      <td>1</td>\n",
       "      <td>217</td>\n",
       "      <td>1.53</td>\n",
       "    </tr>\n",
       "    <tr>\n",
       "      <th>1</th>\n",
       "      <td>San Diego</td>\n",
       "      <td>32.715736</td>\n",
       "      <td>-117.161087</td>\n",
       "      <td>Feb</td>\n",
       "      <td>2</td>\n",
       "      <td>255</td>\n",
       "      <td>0.15</td>\n",
       "    </tr>\n",
       "    <tr>\n",
       "      <th>2</th>\n",
       "      <td>San Diego</td>\n",
       "      <td>32.715736</td>\n",
       "      <td>-117.161087</td>\n",
       "      <td>Mar</td>\n",
       "      <td>3</td>\n",
       "      <td>234</td>\n",
       "      <td>0.57</td>\n",
       "    </tr>\n",
       "    <tr>\n",
       "      <th>3</th>\n",
       "      <td>San Diego</td>\n",
       "      <td>32.715736</td>\n",
       "      <td>-117.161087</td>\n",
       "      <td>Apr</td>\n",
       "      <td>4</td>\n",
       "      <td>236</td>\n",
       "      <td>1.01</td>\n",
       "    </tr>\n",
       "    <tr>\n",
       "      <th>4</th>\n",
       "      <td>San Diego</td>\n",
       "      <td>32.715736</td>\n",
       "      <td>-117.161087</td>\n",
       "      <td>May</td>\n",
       "      <td>5</td>\n",
       "      <td>277</td>\n",
       "      <td>0.02</td>\n",
       "    </tr>\n",
       "    <tr>\n",
       "      <th>...</th>\n",
       "      <td>...</td>\n",
       "      <td>...</td>\n",
       "      <td>...</td>\n",
       "      <td>...</td>\n",
       "      <td>...</td>\n",
       "      <td>...</td>\n",
       "      <td>...</td>\n",
       "    </tr>\n",
       "    <tr>\n",
       "      <th>67</th>\n",
       "      <td>Miami</td>\n",
       "      <td>25.761681</td>\n",
       "      <td>-80.191788</td>\n",
       "      <td>Aug</td>\n",
       "      <td>8</td>\n",
       "      <td>263</td>\n",
       "      <td>8.88</td>\n",
       "    </tr>\n",
       "    <tr>\n",
       "      <th>68</th>\n",
       "      <td>Miami</td>\n",
       "      <td>25.761681</td>\n",
       "      <td>-80.191788</td>\n",
       "      <td>Sep</td>\n",
       "      <td>9</td>\n",
       "      <td>216</td>\n",
       "      <td>9.86</td>\n",
       "    </tr>\n",
       "    <tr>\n",
       "      <th>69</th>\n",
       "      <td>Miami</td>\n",
       "      <td>25.761681</td>\n",
       "      <td>-80.191788</td>\n",
       "      <td>Oct</td>\n",
       "      <td>10</td>\n",
       "      <td>215</td>\n",
       "      <td>6.33</td>\n",
       "    </tr>\n",
       "    <tr>\n",
       "      <th>70</th>\n",
       "      <td>Miami</td>\n",
       "      <td>25.761681</td>\n",
       "      <td>-80.191788</td>\n",
       "      <td>Nov</td>\n",
       "      <td>11</td>\n",
       "      <td>212</td>\n",
       "      <td>3.27</td>\n",
       "    </tr>\n",
       "    <tr>\n",
       "      <th>71</th>\n",
       "      <td>Miami</td>\n",
       "      <td>25.761681</td>\n",
       "      <td>-80.191788</td>\n",
       "      <td>Dec</td>\n",
       "      <td>12</td>\n",
       "      <td>209</td>\n",
       "      <td>2.04</td>\n",
       "    </tr>\n",
       "  </tbody>\n",
       "</table>\n",
       "<p>72 rows × 7 columns</p>\n",
       "</div>"
      ],
      "text/plain": [
       "         city        lat         lon month  monthnum  sunshine  rain\n",
       "0   San Diego  32.715736 -117.161087   Jan         1       217  1.53\n",
       "1   San Diego  32.715736 -117.161087   Feb         2       255  0.15\n",
       "2   San Diego  32.715736 -117.161087   Mar         3       234  0.57\n",
       "3   San Diego  32.715736 -117.161087   Apr         4       236  1.01\n",
       "4   San Diego  32.715736 -117.161087   May         5       277  0.02\n",
       "..        ...        ...         ...   ...       ...       ...   ...\n",
       "67      Miami  25.761681  -80.191788   Aug         8       263  8.88\n",
       "68      Miami  25.761681  -80.191788   Sep         9       216  9.86\n",
       "69      Miami  25.761681  -80.191788   Oct        10       215  6.33\n",
       "70      Miami  25.761681  -80.191788   Nov        11       212  3.27\n",
       "71      Miami  25.761681  -80.191788   Dec        12       209  2.04\n",
       "\n",
       "[72 rows x 7 columns]"
      ]
     },
     "execution_count": 2,
     "metadata": {},
     "output_type": "execute_result"
    }
   ],
   "source": [
    "climate = pd.read_csv('weather_data.csv')\n",
    "climate"
   ]
  },
  {
   "cell_type": "markdown",
   "metadata": {},
   "source": [
    "I want to, for both city, get the average sunshine and rain per season. so for san diego, i want to see the average number of hours it rained vs was sunny for summer, spring, winter, fall.\n",
    "I want to compare 2 cities based on which have the closest latitude, for west and east coast"
   ]
  },
  {
   "cell_type": "code",
   "execution_count": 3,
   "metadata": {},
   "outputs": [
    {
     "data": {
      "text/plain": [
       "{'San Diego': 32.715736,\n",
       " 'San Francisco': 37.774929,\n",
       " 'Chicago': 41.878113,\n",
       " 'Houston': 29.760427,\n",
       " 'New York City': 40.712776,\n",
       " 'Miami': 25.761681}"
      ]
     },
     "execution_count": 3,
     "metadata": {},
     "output_type": "execute_result"
    }
   ],
   "source": [
    "def similar_lat(df):\n",
    "    city_lat_dict = df.set_index('city')['lat'].to_dict()\n",
    "    return city_lat_dict\n",
    "\n",
    "similar_lat(climate)"
   ]
  },
  {
   "cell_type": "code",
   "execution_count": 4,
   "metadata": {},
   "outputs": [
    {
     "data": {
      "text/html": [
       "<div>\n",
       "<style scoped>\n",
       "    .dataframe tbody tr th:only-of-type {\n",
       "        vertical-align: middle;\n",
       "    }\n",
       "\n",
       "    .dataframe tbody tr th {\n",
       "        vertical-align: top;\n",
       "    }\n",
       "\n",
       "    .dataframe thead th {\n",
       "        text-align: right;\n",
       "    }\n",
       "</style>\n",
       "<table border=\"1\" class=\"dataframe\">\n",
       "  <thead>\n",
       "    <tr style=\"text-align: right;\">\n",
       "      <th></th>\n",
       "      <th>city</th>\n",
       "      <th>lat</th>\n",
       "      <th>lon</th>\n",
       "      <th>month</th>\n",
       "      <th>monthnum</th>\n",
       "      <th>sunshine</th>\n",
       "      <th>rain</th>\n",
       "    </tr>\n",
       "  </thead>\n",
       "  <tbody>\n",
       "    <tr>\n",
       "      <th>0</th>\n",
       "      <td>San Diego</td>\n",
       "      <td>32.715736</td>\n",
       "      <td>-117.161087</td>\n",
       "      <td>Jan</td>\n",
       "      <td>1</td>\n",
       "      <td>217</td>\n",
       "      <td>1.53</td>\n",
       "    </tr>\n",
       "    <tr>\n",
       "      <th>1</th>\n",
       "      <td>San Diego</td>\n",
       "      <td>32.715736</td>\n",
       "      <td>-117.161087</td>\n",
       "      <td>Feb</td>\n",
       "      <td>2</td>\n",
       "      <td>255</td>\n",
       "      <td>0.15</td>\n",
       "    </tr>\n",
       "    <tr>\n",
       "      <th>2</th>\n",
       "      <td>San Diego</td>\n",
       "      <td>32.715736</td>\n",
       "      <td>-117.161087</td>\n",
       "      <td>Mar</td>\n",
       "      <td>3</td>\n",
       "      <td>234</td>\n",
       "      <td>0.57</td>\n",
       "    </tr>\n",
       "    <tr>\n",
       "      <th>3</th>\n",
       "      <td>San Diego</td>\n",
       "      <td>32.715736</td>\n",
       "      <td>-117.161087</td>\n",
       "      <td>Apr</td>\n",
       "      <td>4</td>\n",
       "      <td>236</td>\n",
       "      <td>1.01</td>\n",
       "    </tr>\n",
       "    <tr>\n",
       "      <th>4</th>\n",
       "      <td>San Diego</td>\n",
       "      <td>32.715736</td>\n",
       "      <td>-117.161087</td>\n",
       "      <td>May</td>\n",
       "      <td>5</td>\n",
       "      <td>277</td>\n",
       "      <td>0.02</td>\n",
       "    </tr>\n",
       "    <tr>\n",
       "      <th>5</th>\n",
       "      <td>San Diego</td>\n",
       "      <td>32.715736</td>\n",
       "      <td>-117.161087</td>\n",
       "      <td>Jun</td>\n",
       "      <td>6</td>\n",
       "      <td>293</td>\n",
       "      <td>0.03</td>\n",
       "    </tr>\n",
       "    <tr>\n",
       "      <th>6</th>\n",
       "      <td>San Diego</td>\n",
       "      <td>32.715736</td>\n",
       "      <td>-117.161087</td>\n",
       "      <td>Jul</td>\n",
       "      <td>7</td>\n",
       "      <td>253</td>\n",
       "      <td>0.07</td>\n",
       "    </tr>\n",
       "    <tr>\n",
       "      <th>7</th>\n",
       "      <td>San Diego</td>\n",
       "      <td>32.715736</td>\n",
       "      <td>-117.161087</td>\n",
       "      <td>Aug</td>\n",
       "      <td>8</td>\n",
       "      <td>261</td>\n",
       "      <td>0.12</td>\n",
       "    </tr>\n",
       "    <tr>\n",
       "      <th>8</th>\n",
       "      <td>San Diego</td>\n",
       "      <td>32.715736</td>\n",
       "      <td>-117.161087</td>\n",
       "      <td>Sep</td>\n",
       "      <td>9</td>\n",
       "      <td>242</td>\n",
       "      <td>0.78</td>\n",
       "    </tr>\n",
       "    <tr>\n",
       "      <th>9</th>\n",
       "      <td>San Diego</td>\n",
       "      <td>32.715736</td>\n",
       "      <td>-117.161087</td>\n",
       "      <td>Oct</td>\n",
       "      <td>10</td>\n",
       "      <td>262</td>\n",
       "      <td>1.81</td>\n",
       "    </tr>\n",
       "    <tr>\n",
       "      <th>10</th>\n",
       "      <td>San Diego</td>\n",
       "      <td>32.715736</td>\n",
       "      <td>-117.161087</td>\n",
       "      <td>Nov</td>\n",
       "      <td>11</td>\n",
       "      <td>212</td>\n",
       "      <td>2.27</td>\n",
       "    </tr>\n",
       "    <tr>\n",
       "      <th>11</th>\n",
       "      <td>San Diego</td>\n",
       "      <td>32.715736</td>\n",
       "      <td>-117.161087</td>\n",
       "      <td>Dec</td>\n",
       "      <td>12</td>\n",
       "      <td>216</td>\n",
       "      <td>1.98</td>\n",
       "    </tr>\n",
       "  </tbody>\n",
       "</table>\n",
       "</div>"
      ],
      "text/plain": [
       "         city        lat         lon month  monthnum  sunshine  rain\n",
       "0   San Diego  32.715736 -117.161087   Jan         1       217  1.53\n",
       "1   San Diego  32.715736 -117.161087   Feb         2       255  0.15\n",
       "2   San Diego  32.715736 -117.161087   Mar         3       234  0.57\n",
       "3   San Diego  32.715736 -117.161087   Apr         4       236  1.01\n",
       "4   San Diego  32.715736 -117.161087   May         5       277  0.02\n",
       "5   San Diego  32.715736 -117.161087   Jun         6       293  0.03\n",
       "6   San Diego  32.715736 -117.161087   Jul         7       253  0.07\n",
       "7   San Diego  32.715736 -117.161087   Aug         8       261  0.12\n",
       "8   San Diego  32.715736 -117.161087   Sep         9       242  0.78\n",
       "9   San Diego  32.715736 -117.161087   Oct        10       262  1.81\n",
       "10  San Diego  32.715736 -117.161087   Nov        11       212  2.27\n",
       "11  San Diego  32.715736 -117.161087   Dec        12       216  1.98"
      ]
     },
     "execution_count": 4,
     "metadata": {},
     "output_type": "execute_result"
    }
   ],
   "source": [
    "SD_Climate = climate.copy()\n",
    "SD_Climate = SD_Climate[SD_Climate['city'] == 'San Diego']\n",
    "SD_Climate"
   ]
  },
  {
   "cell_type": "code",
   "execution_count": 5,
   "metadata": {},
   "outputs": [
    {
     "data": {
      "text/html": [
       "<div>\n",
       "<style scoped>\n",
       "    .dataframe tbody tr th:only-of-type {\n",
       "        vertical-align: middle;\n",
       "    }\n",
       "\n",
       "    .dataframe tbody tr th {\n",
       "        vertical-align: top;\n",
       "    }\n",
       "\n",
       "    .dataframe thead th {\n",
       "        text-align: right;\n",
       "    }\n",
       "</style>\n",
       "<table border=\"1\" class=\"dataframe\">\n",
       "  <thead>\n",
       "    <tr style=\"text-align: right;\">\n",
       "      <th></th>\n",
       "      <th>city</th>\n",
       "      <th>lat</th>\n",
       "      <th>lon</th>\n",
       "      <th>month</th>\n",
       "      <th>monthnum</th>\n",
       "      <th>sunshine</th>\n",
       "      <th>rain</th>\n",
       "    </tr>\n",
       "  </thead>\n",
       "  <tbody>\n",
       "    <tr>\n",
       "      <th>60</th>\n",
       "      <td>Miami</td>\n",
       "      <td>25.761681</td>\n",
       "      <td>-80.191788</td>\n",
       "      <td>Jan</td>\n",
       "      <td>1</td>\n",
       "      <td>222</td>\n",
       "      <td>1.62</td>\n",
       "    </tr>\n",
       "    <tr>\n",
       "      <th>61</th>\n",
       "      <td>Miami</td>\n",
       "      <td>25.761681</td>\n",
       "      <td>-80.191788</td>\n",
       "      <td>Feb</td>\n",
       "      <td>2</td>\n",
       "      <td>227</td>\n",
       "      <td>2.25</td>\n",
       "    </tr>\n",
       "    <tr>\n",
       "      <th>62</th>\n",
       "      <td>Miami</td>\n",
       "      <td>25.761681</td>\n",
       "      <td>-80.191788</td>\n",
       "      <td>Mar</td>\n",
       "      <td>3</td>\n",
       "      <td>266</td>\n",
       "      <td>3.00</td>\n",
       "    </tr>\n",
       "    <tr>\n",
       "      <th>63</th>\n",
       "      <td>Miami</td>\n",
       "      <td>25.761681</td>\n",
       "      <td>-80.191788</td>\n",
       "      <td>Apr</td>\n",
       "      <td>4</td>\n",
       "      <td>275</td>\n",
       "      <td>3.14</td>\n",
       "    </tr>\n",
       "    <tr>\n",
       "      <th>64</th>\n",
       "      <td>Miami</td>\n",
       "      <td>25.761681</td>\n",
       "      <td>-80.191788</td>\n",
       "      <td>May</td>\n",
       "      <td>5</td>\n",
       "      <td>280</td>\n",
       "      <td>5.34</td>\n",
       "    </tr>\n",
       "    <tr>\n",
       "      <th>65</th>\n",
       "      <td>Miami</td>\n",
       "      <td>25.761681</td>\n",
       "      <td>-80.191788</td>\n",
       "      <td>Jun</td>\n",
       "      <td>6</td>\n",
       "      <td>251</td>\n",
       "      <td>9.67</td>\n",
       "    </tr>\n",
       "    <tr>\n",
       "      <th>66</th>\n",
       "      <td>Miami</td>\n",
       "      <td>25.761681</td>\n",
       "      <td>-80.191788</td>\n",
       "      <td>Jul</td>\n",
       "      <td>7</td>\n",
       "      <td>267</td>\n",
       "      <td>6.50</td>\n",
       "    </tr>\n",
       "    <tr>\n",
       "      <th>67</th>\n",
       "      <td>Miami</td>\n",
       "      <td>25.761681</td>\n",
       "      <td>-80.191788</td>\n",
       "      <td>Aug</td>\n",
       "      <td>8</td>\n",
       "      <td>263</td>\n",
       "      <td>8.88</td>\n",
       "    </tr>\n",
       "    <tr>\n",
       "      <th>68</th>\n",
       "      <td>Miami</td>\n",
       "      <td>25.761681</td>\n",
       "      <td>-80.191788</td>\n",
       "      <td>Sep</td>\n",
       "      <td>9</td>\n",
       "      <td>216</td>\n",
       "      <td>9.86</td>\n",
       "    </tr>\n",
       "    <tr>\n",
       "      <th>69</th>\n",
       "      <td>Miami</td>\n",
       "      <td>25.761681</td>\n",
       "      <td>-80.191788</td>\n",
       "      <td>Oct</td>\n",
       "      <td>10</td>\n",
       "      <td>215</td>\n",
       "      <td>6.33</td>\n",
       "    </tr>\n",
       "    <tr>\n",
       "      <th>70</th>\n",
       "      <td>Miami</td>\n",
       "      <td>25.761681</td>\n",
       "      <td>-80.191788</td>\n",
       "      <td>Nov</td>\n",
       "      <td>11</td>\n",
       "      <td>212</td>\n",
       "      <td>3.27</td>\n",
       "    </tr>\n",
       "    <tr>\n",
       "      <th>71</th>\n",
       "      <td>Miami</td>\n",
       "      <td>25.761681</td>\n",
       "      <td>-80.191788</td>\n",
       "      <td>Dec</td>\n",
       "      <td>12</td>\n",
       "      <td>209</td>\n",
       "      <td>2.04</td>\n",
       "    </tr>\n",
       "  </tbody>\n",
       "</table>\n",
       "</div>"
      ],
      "text/plain": [
       "     city        lat        lon month  monthnum  sunshine  rain\n",
       "60  Miami  25.761681 -80.191788   Jan         1       222  1.62\n",
       "61  Miami  25.761681 -80.191788   Feb         2       227  2.25\n",
       "62  Miami  25.761681 -80.191788   Mar         3       266  3.00\n",
       "63  Miami  25.761681 -80.191788   Apr         4       275  3.14\n",
       "64  Miami  25.761681 -80.191788   May         5       280  5.34\n",
       "65  Miami  25.761681 -80.191788   Jun         6       251  9.67\n",
       "66  Miami  25.761681 -80.191788   Jul         7       267  6.50\n",
       "67  Miami  25.761681 -80.191788   Aug         8       263  8.88\n",
       "68  Miami  25.761681 -80.191788   Sep         9       216  9.86\n",
       "69  Miami  25.761681 -80.191788   Oct        10       215  6.33\n",
       "70  Miami  25.761681 -80.191788   Nov        11       212  3.27\n",
       "71  Miami  25.761681 -80.191788   Dec        12       209  2.04"
      ]
     },
     "execution_count": 5,
     "metadata": {},
     "output_type": "execute_result"
    }
   ],
   "source": [
    "Miami_Climate = climate.copy()\n",
    "Miami_Climate = Miami_Climate[Miami_Climate['city'] == 'Miami']\n",
    "Miami_Climate"
   ]
  },
  {
   "cell_type": "code",
   "execution_count": 6,
   "metadata": {},
   "outputs": [
    {
     "data": {
      "text/html": [
       "<div>\n",
       "<style scoped>\n",
       "    .dataframe tbody tr th:only-of-type {\n",
       "        vertical-align: middle;\n",
       "    }\n",
       "\n",
       "    .dataframe tbody tr th {\n",
       "        vertical-align: top;\n",
       "    }\n",
       "\n",
       "    .dataframe thead th {\n",
       "        text-align: right;\n",
       "    }\n",
       "</style>\n",
       "<table border=\"1\" class=\"dataframe\">\n",
       "  <thead>\n",
       "    <tr style=\"text-align: right;\">\n",
       "      <th></th>\n",
       "      <th>city</th>\n",
       "      <th>lat</th>\n",
       "      <th>lon</th>\n",
       "      <th>month</th>\n",
       "      <th>monthnum</th>\n",
       "      <th>sunshine</th>\n",
       "      <th>rain</th>\n",
       "    </tr>\n",
       "  </thead>\n",
       "  <tbody>\n",
       "    <tr>\n",
       "      <th>0</th>\n",
       "      <td>San Diego</td>\n",
       "      <td>32.715736</td>\n",
       "      <td>-117.161087</td>\n",
       "      <td>Jan</td>\n",
       "      <td>1</td>\n",
       "      <td>217</td>\n",
       "      <td>1.53</td>\n",
       "    </tr>\n",
       "    <tr>\n",
       "      <th>1</th>\n",
       "      <td>San Diego</td>\n",
       "      <td>32.715736</td>\n",
       "      <td>-117.161087</td>\n",
       "      <td>Feb</td>\n",
       "      <td>2</td>\n",
       "      <td>255</td>\n",
       "      <td>0.15</td>\n",
       "    </tr>\n",
       "    <tr>\n",
       "      <th>2</th>\n",
       "      <td>San Diego</td>\n",
       "      <td>32.715736</td>\n",
       "      <td>-117.161087</td>\n",
       "      <td>Mar</td>\n",
       "      <td>3</td>\n",
       "      <td>234</td>\n",
       "      <td>0.57</td>\n",
       "    </tr>\n",
       "    <tr>\n",
       "      <th>3</th>\n",
       "      <td>San Diego</td>\n",
       "      <td>32.715736</td>\n",
       "      <td>-117.161087</td>\n",
       "      <td>Apr</td>\n",
       "      <td>4</td>\n",
       "      <td>236</td>\n",
       "      <td>1.01</td>\n",
       "    </tr>\n",
       "    <tr>\n",
       "      <th>4</th>\n",
       "      <td>San Diego</td>\n",
       "      <td>32.715736</td>\n",
       "      <td>-117.161087</td>\n",
       "      <td>May</td>\n",
       "      <td>5</td>\n",
       "      <td>277</td>\n",
       "      <td>0.02</td>\n",
       "    </tr>\n",
       "    <tr>\n",
       "      <th>5</th>\n",
       "      <td>San Diego</td>\n",
       "      <td>32.715736</td>\n",
       "      <td>-117.161087</td>\n",
       "      <td>Jun</td>\n",
       "      <td>6</td>\n",
       "      <td>293</td>\n",
       "      <td>0.03</td>\n",
       "    </tr>\n",
       "    <tr>\n",
       "      <th>6</th>\n",
       "      <td>San Diego</td>\n",
       "      <td>32.715736</td>\n",
       "      <td>-117.161087</td>\n",
       "      <td>Jul</td>\n",
       "      <td>7</td>\n",
       "      <td>253</td>\n",
       "      <td>0.07</td>\n",
       "    </tr>\n",
       "    <tr>\n",
       "      <th>7</th>\n",
       "      <td>San Diego</td>\n",
       "      <td>32.715736</td>\n",
       "      <td>-117.161087</td>\n",
       "      <td>Aug</td>\n",
       "      <td>8</td>\n",
       "      <td>261</td>\n",
       "      <td>0.12</td>\n",
       "    </tr>\n",
       "    <tr>\n",
       "      <th>8</th>\n",
       "      <td>San Diego</td>\n",
       "      <td>32.715736</td>\n",
       "      <td>-117.161087</td>\n",
       "      <td>Sep</td>\n",
       "      <td>9</td>\n",
       "      <td>242</td>\n",
       "      <td>0.78</td>\n",
       "    </tr>\n",
       "    <tr>\n",
       "      <th>9</th>\n",
       "      <td>San Diego</td>\n",
       "      <td>32.715736</td>\n",
       "      <td>-117.161087</td>\n",
       "      <td>Oct</td>\n",
       "      <td>10</td>\n",
       "      <td>262</td>\n",
       "      <td>1.81</td>\n",
       "    </tr>\n",
       "    <tr>\n",
       "      <th>10</th>\n",
       "      <td>San Diego</td>\n",
       "      <td>32.715736</td>\n",
       "      <td>-117.161087</td>\n",
       "      <td>Nov</td>\n",
       "      <td>11</td>\n",
       "      <td>212</td>\n",
       "      <td>2.27</td>\n",
       "    </tr>\n",
       "    <tr>\n",
       "      <th>11</th>\n",
       "      <td>San Diego</td>\n",
       "      <td>32.715736</td>\n",
       "      <td>-117.161087</td>\n",
       "      <td>Dec</td>\n",
       "      <td>12</td>\n",
       "      <td>216</td>\n",
       "      <td>1.98</td>\n",
       "    </tr>\n",
       "    <tr>\n",
       "      <th>60</th>\n",
       "      <td>Miami</td>\n",
       "      <td>25.761681</td>\n",
       "      <td>-80.191788</td>\n",
       "      <td>Jan</td>\n",
       "      <td>1</td>\n",
       "      <td>222</td>\n",
       "      <td>1.62</td>\n",
       "    </tr>\n",
       "    <tr>\n",
       "      <th>61</th>\n",
       "      <td>Miami</td>\n",
       "      <td>25.761681</td>\n",
       "      <td>-80.191788</td>\n",
       "      <td>Feb</td>\n",
       "      <td>2</td>\n",
       "      <td>227</td>\n",
       "      <td>2.25</td>\n",
       "    </tr>\n",
       "    <tr>\n",
       "      <th>62</th>\n",
       "      <td>Miami</td>\n",
       "      <td>25.761681</td>\n",
       "      <td>-80.191788</td>\n",
       "      <td>Mar</td>\n",
       "      <td>3</td>\n",
       "      <td>266</td>\n",
       "      <td>3.00</td>\n",
       "    </tr>\n",
       "    <tr>\n",
       "      <th>63</th>\n",
       "      <td>Miami</td>\n",
       "      <td>25.761681</td>\n",
       "      <td>-80.191788</td>\n",
       "      <td>Apr</td>\n",
       "      <td>4</td>\n",
       "      <td>275</td>\n",
       "      <td>3.14</td>\n",
       "    </tr>\n",
       "    <tr>\n",
       "      <th>64</th>\n",
       "      <td>Miami</td>\n",
       "      <td>25.761681</td>\n",
       "      <td>-80.191788</td>\n",
       "      <td>May</td>\n",
       "      <td>5</td>\n",
       "      <td>280</td>\n",
       "      <td>5.34</td>\n",
       "    </tr>\n",
       "    <tr>\n",
       "      <th>65</th>\n",
       "      <td>Miami</td>\n",
       "      <td>25.761681</td>\n",
       "      <td>-80.191788</td>\n",
       "      <td>Jun</td>\n",
       "      <td>6</td>\n",
       "      <td>251</td>\n",
       "      <td>9.67</td>\n",
       "    </tr>\n",
       "    <tr>\n",
       "      <th>66</th>\n",
       "      <td>Miami</td>\n",
       "      <td>25.761681</td>\n",
       "      <td>-80.191788</td>\n",
       "      <td>Jul</td>\n",
       "      <td>7</td>\n",
       "      <td>267</td>\n",
       "      <td>6.50</td>\n",
       "    </tr>\n",
       "    <tr>\n",
       "      <th>67</th>\n",
       "      <td>Miami</td>\n",
       "      <td>25.761681</td>\n",
       "      <td>-80.191788</td>\n",
       "      <td>Aug</td>\n",
       "      <td>8</td>\n",
       "      <td>263</td>\n",
       "      <td>8.88</td>\n",
       "    </tr>\n",
       "    <tr>\n",
       "      <th>68</th>\n",
       "      <td>Miami</td>\n",
       "      <td>25.761681</td>\n",
       "      <td>-80.191788</td>\n",
       "      <td>Sep</td>\n",
       "      <td>9</td>\n",
       "      <td>216</td>\n",
       "      <td>9.86</td>\n",
       "    </tr>\n",
       "    <tr>\n",
       "      <th>69</th>\n",
       "      <td>Miami</td>\n",
       "      <td>25.761681</td>\n",
       "      <td>-80.191788</td>\n",
       "      <td>Oct</td>\n",
       "      <td>10</td>\n",
       "      <td>215</td>\n",
       "      <td>6.33</td>\n",
       "    </tr>\n",
       "    <tr>\n",
       "      <th>70</th>\n",
       "      <td>Miami</td>\n",
       "      <td>25.761681</td>\n",
       "      <td>-80.191788</td>\n",
       "      <td>Nov</td>\n",
       "      <td>11</td>\n",
       "      <td>212</td>\n",
       "      <td>3.27</td>\n",
       "    </tr>\n",
       "    <tr>\n",
       "      <th>71</th>\n",
       "      <td>Miami</td>\n",
       "      <td>25.761681</td>\n",
       "      <td>-80.191788</td>\n",
       "      <td>Dec</td>\n",
       "      <td>12</td>\n",
       "      <td>209</td>\n",
       "      <td>2.04</td>\n",
       "    </tr>\n",
       "  </tbody>\n",
       "</table>\n",
       "</div>"
      ],
      "text/plain": [
       "         city        lat         lon month  monthnum  sunshine  rain\n",
       "0   San Diego  32.715736 -117.161087   Jan         1       217  1.53\n",
       "1   San Diego  32.715736 -117.161087   Feb         2       255  0.15\n",
       "2   San Diego  32.715736 -117.161087   Mar         3       234  0.57\n",
       "3   San Diego  32.715736 -117.161087   Apr         4       236  1.01\n",
       "4   San Diego  32.715736 -117.161087   May         5       277  0.02\n",
       "5   San Diego  32.715736 -117.161087   Jun         6       293  0.03\n",
       "6   San Diego  32.715736 -117.161087   Jul         7       253  0.07\n",
       "7   San Diego  32.715736 -117.161087   Aug         8       261  0.12\n",
       "8   San Diego  32.715736 -117.161087   Sep         9       242  0.78\n",
       "9   San Diego  32.715736 -117.161087   Oct        10       262  1.81\n",
       "10  San Diego  32.715736 -117.161087   Nov        11       212  2.27\n",
       "11  San Diego  32.715736 -117.161087   Dec        12       216  1.98\n",
       "60      Miami  25.761681  -80.191788   Jan         1       222  1.62\n",
       "61      Miami  25.761681  -80.191788   Feb         2       227  2.25\n",
       "62      Miami  25.761681  -80.191788   Mar         3       266  3.00\n",
       "63      Miami  25.761681  -80.191788   Apr         4       275  3.14\n",
       "64      Miami  25.761681  -80.191788   May         5       280  5.34\n",
       "65      Miami  25.761681  -80.191788   Jun         6       251  9.67\n",
       "66      Miami  25.761681  -80.191788   Jul         7       267  6.50\n",
       "67      Miami  25.761681  -80.191788   Aug         8       263  8.88\n",
       "68      Miami  25.761681  -80.191788   Sep         9       216  9.86\n",
       "69      Miami  25.761681  -80.191788   Oct        10       215  6.33\n",
       "70      Miami  25.761681  -80.191788   Nov        11       212  3.27\n",
       "71      Miami  25.761681  -80.191788   Dec        12       209  2.04"
      ]
     },
     "execution_count": 6,
     "metadata": {},
     "output_type": "execute_result"
    }
   ],
   "source": [
    "SD_M_Climate = climate.copy()\n",
    "SD_M_Climate = SD_M_Climate[(SD_M_Climate['city'] == 'San Diego') | (SD_M_Climate['city'] == 'Miami')]\n",
    "SD_M_Climate"
   ]
  },
  {
   "cell_type": "code",
   "execution_count": 7,
   "metadata": {},
   "outputs": [
    {
     "data": {
      "text/html": [
       "<div>\n",
       "<style scoped>\n",
       "    .dataframe tbody tr th:only-of-type {\n",
       "        vertical-align: middle;\n",
       "    }\n",
       "\n",
       "    .dataframe tbody tr th {\n",
       "        vertical-align: top;\n",
       "    }\n",
       "\n",
       "    .dataframe thead th {\n",
       "        text-align: right;\n",
       "    }\n",
       "</style>\n",
       "<table border=\"1\" class=\"dataframe\">\n",
       "  <thead>\n",
       "    <tr style=\"text-align: right;\">\n",
       "      <th></th>\n",
       "      <th>city</th>\n",
       "      <th>lat</th>\n",
       "      <th>lon</th>\n",
       "      <th>month</th>\n",
       "      <th>monthnum</th>\n",
       "      <th>sunshine</th>\n",
       "      <th>rain</th>\n",
       "      <th>season</th>\n",
       "    </tr>\n",
       "  </thead>\n",
       "  <tbody>\n",
       "    <tr>\n",
       "      <th>0</th>\n",
       "      <td>San Diego</td>\n",
       "      <td>32.715736</td>\n",
       "      <td>-117.161087</td>\n",
       "      <td>Jan</td>\n",
       "      <td>1</td>\n",
       "      <td>217</td>\n",
       "      <td>1.53</td>\n",
       "      <td>Winter</td>\n",
       "    </tr>\n",
       "    <tr>\n",
       "      <th>1</th>\n",
       "      <td>San Diego</td>\n",
       "      <td>32.715736</td>\n",
       "      <td>-117.161087</td>\n",
       "      <td>Feb</td>\n",
       "      <td>2</td>\n",
       "      <td>255</td>\n",
       "      <td>0.15</td>\n",
       "      <td>Winter</td>\n",
       "    </tr>\n",
       "    <tr>\n",
       "      <th>2</th>\n",
       "      <td>San Diego</td>\n",
       "      <td>32.715736</td>\n",
       "      <td>-117.161087</td>\n",
       "      <td>Mar</td>\n",
       "      <td>3</td>\n",
       "      <td>234</td>\n",
       "      <td>0.57</td>\n",
       "      <td>Spring</td>\n",
       "    </tr>\n",
       "    <tr>\n",
       "      <th>3</th>\n",
       "      <td>San Diego</td>\n",
       "      <td>32.715736</td>\n",
       "      <td>-117.161087</td>\n",
       "      <td>Apr</td>\n",
       "      <td>4</td>\n",
       "      <td>236</td>\n",
       "      <td>1.01</td>\n",
       "      <td>Spring</td>\n",
       "    </tr>\n",
       "    <tr>\n",
       "      <th>4</th>\n",
       "      <td>San Diego</td>\n",
       "      <td>32.715736</td>\n",
       "      <td>-117.161087</td>\n",
       "      <td>May</td>\n",
       "      <td>5</td>\n",
       "      <td>277</td>\n",
       "      <td>0.02</td>\n",
       "      <td>Spring</td>\n",
       "    </tr>\n",
       "    <tr>\n",
       "      <th>5</th>\n",
       "      <td>San Diego</td>\n",
       "      <td>32.715736</td>\n",
       "      <td>-117.161087</td>\n",
       "      <td>Jun</td>\n",
       "      <td>6</td>\n",
       "      <td>293</td>\n",
       "      <td>0.03</td>\n",
       "      <td>Summer</td>\n",
       "    </tr>\n",
       "    <tr>\n",
       "      <th>6</th>\n",
       "      <td>San Diego</td>\n",
       "      <td>32.715736</td>\n",
       "      <td>-117.161087</td>\n",
       "      <td>Jul</td>\n",
       "      <td>7</td>\n",
       "      <td>253</td>\n",
       "      <td>0.07</td>\n",
       "      <td>Summer</td>\n",
       "    </tr>\n",
       "    <tr>\n",
       "      <th>7</th>\n",
       "      <td>San Diego</td>\n",
       "      <td>32.715736</td>\n",
       "      <td>-117.161087</td>\n",
       "      <td>Aug</td>\n",
       "      <td>8</td>\n",
       "      <td>261</td>\n",
       "      <td>0.12</td>\n",
       "      <td>Summer</td>\n",
       "    </tr>\n",
       "    <tr>\n",
       "      <th>8</th>\n",
       "      <td>San Diego</td>\n",
       "      <td>32.715736</td>\n",
       "      <td>-117.161087</td>\n",
       "      <td>Sep</td>\n",
       "      <td>9</td>\n",
       "      <td>242</td>\n",
       "      <td>0.78</td>\n",
       "      <td>Fall</td>\n",
       "    </tr>\n",
       "    <tr>\n",
       "      <th>9</th>\n",
       "      <td>San Diego</td>\n",
       "      <td>32.715736</td>\n",
       "      <td>-117.161087</td>\n",
       "      <td>Oct</td>\n",
       "      <td>10</td>\n",
       "      <td>262</td>\n",
       "      <td>1.81</td>\n",
       "      <td>Fall</td>\n",
       "    </tr>\n",
       "    <tr>\n",
       "      <th>10</th>\n",
       "      <td>San Diego</td>\n",
       "      <td>32.715736</td>\n",
       "      <td>-117.161087</td>\n",
       "      <td>Nov</td>\n",
       "      <td>11</td>\n",
       "      <td>212</td>\n",
       "      <td>2.27</td>\n",
       "      <td>Fall</td>\n",
       "    </tr>\n",
       "    <tr>\n",
       "      <th>11</th>\n",
       "      <td>San Diego</td>\n",
       "      <td>32.715736</td>\n",
       "      <td>-117.161087</td>\n",
       "      <td>Dec</td>\n",
       "      <td>12</td>\n",
       "      <td>216</td>\n",
       "      <td>1.98</td>\n",
       "      <td>Winter</td>\n",
       "    </tr>\n",
       "    <tr>\n",
       "      <th>60</th>\n",
       "      <td>Miami</td>\n",
       "      <td>25.761681</td>\n",
       "      <td>-80.191788</td>\n",
       "      <td>Jan</td>\n",
       "      <td>1</td>\n",
       "      <td>222</td>\n",
       "      <td>1.62</td>\n",
       "      <td>Winter</td>\n",
       "    </tr>\n",
       "    <tr>\n",
       "      <th>61</th>\n",
       "      <td>Miami</td>\n",
       "      <td>25.761681</td>\n",
       "      <td>-80.191788</td>\n",
       "      <td>Feb</td>\n",
       "      <td>2</td>\n",
       "      <td>227</td>\n",
       "      <td>2.25</td>\n",
       "      <td>Winter</td>\n",
       "    </tr>\n",
       "    <tr>\n",
       "      <th>62</th>\n",
       "      <td>Miami</td>\n",
       "      <td>25.761681</td>\n",
       "      <td>-80.191788</td>\n",
       "      <td>Mar</td>\n",
       "      <td>3</td>\n",
       "      <td>266</td>\n",
       "      <td>3.00</td>\n",
       "      <td>Spring</td>\n",
       "    </tr>\n",
       "    <tr>\n",
       "      <th>63</th>\n",
       "      <td>Miami</td>\n",
       "      <td>25.761681</td>\n",
       "      <td>-80.191788</td>\n",
       "      <td>Apr</td>\n",
       "      <td>4</td>\n",
       "      <td>275</td>\n",
       "      <td>3.14</td>\n",
       "      <td>Spring</td>\n",
       "    </tr>\n",
       "    <tr>\n",
       "      <th>64</th>\n",
       "      <td>Miami</td>\n",
       "      <td>25.761681</td>\n",
       "      <td>-80.191788</td>\n",
       "      <td>May</td>\n",
       "      <td>5</td>\n",
       "      <td>280</td>\n",
       "      <td>5.34</td>\n",
       "      <td>Spring</td>\n",
       "    </tr>\n",
       "    <tr>\n",
       "      <th>65</th>\n",
       "      <td>Miami</td>\n",
       "      <td>25.761681</td>\n",
       "      <td>-80.191788</td>\n",
       "      <td>Jun</td>\n",
       "      <td>6</td>\n",
       "      <td>251</td>\n",
       "      <td>9.67</td>\n",
       "      <td>Summer</td>\n",
       "    </tr>\n",
       "    <tr>\n",
       "      <th>66</th>\n",
       "      <td>Miami</td>\n",
       "      <td>25.761681</td>\n",
       "      <td>-80.191788</td>\n",
       "      <td>Jul</td>\n",
       "      <td>7</td>\n",
       "      <td>267</td>\n",
       "      <td>6.50</td>\n",
       "      <td>Summer</td>\n",
       "    </tr>\n",
       "    <tr>\n",
       "      <th>67</th>\n",
       "      <td>Miami</td>\n",
       "      <td>25.761681</td>\n",
       "      <td>-80.191788</td>\n",
       "      <td>Aug</td>\n",
       "      <td>8</td>\n",
       "      <td>263</td>\n",
       "      <td>8.88</td>\n",
       "      <td>Summer</td>\n",
       "    </tr>\n",
       "    <tr>\n",
       "      <th>68</th>\n",
       "      <td>Miami</td>\n",
       "      <td>25.761681</td>\n",
       "      <td>-80.191788</td>\n",
       "      <td>Sep</td>\n",
       "      <td>9</td>\n",
       "      <td>216</td>\n",
       "      <td>9.86</td>\n",
       "      <td>Fall</td>\n",
       "    </tr>\n",
       "    <tr>\n",
       "      <th>69</th>\n",
       "      <td>Miami</td>\n",
       "      <td>25.761681</td>\n",
       "      <td>-80.191788</td>\n",
       "      <td>Oct</td>\n",
       "      <td>10</td>\n",
       "      <td>215</td>\n",
       "      <td>6.33</td>\n",
       "      <td>Fall</td>\n",
       "    </tr>\n",
       "    <tr>\n",
       "      <th>70</th>\n",
       "      <td>Miami</td>\n",
       "      <td>25.761681</td>\n",
       "      <td>-80.191788</td>\n",
       "      <td>Nov</td>\n",
       "      <td>11</td>\n",
       "      <td>212</td>\n",
       "      <td>3.27</td>\n",
       "      <td>Fall</td>\n",
       "    </tr>\n",
       "    <tr>\n",
       "      <th>71</th>\n",
       "      <td>Miami</td>\n",
       "      <td>25.761681</td>\n",
       "      <td>-80.191788</td>\n",
       "      <td>Dec</td>\n",
       "      <td>12</td>\n",
       "      <td>209</td>\n",
       "      <td>2.04</td>\n",
       "      <td>Winter</td>\n",
       "    </tr>\n",
       "  </tbody>\n",
       "</table>\n",
       "</div>"
      ],
      "text/plain": [
       "         city        lat         lon month  monthnum  sunshine  rain  season\n",
       "0   San Diego  32.715736 -117.161087   Jan         1       217  1.53  Winter\n",
       "1   San Diego  32.715736 -117.161087   Feb         2       255  0.15  Winter\n",
       "2   San Diego  32.715736 -117.161087   Mar         3       234  0.57  Spring\n",
       "3   San Diego  32.715736 -117.161087   Apr         4       236  1.01  Spring\n",
       "4   San Diego  32.715736 -117.161087   May         5       277  0.02  Spring\n",
       "5   San Diego  32.715736 -117.161087   Jun         6       293  0.03  Summer\n",
       "6   San Diego  32.715736 -117.161087   Jul         7       253  0.07  Summer\n",
       "7   San Diego  32.715736 -117.161087   Aug         8       261  0.12  Summer\n",
       "8   San Diego  32.715736 -117.161087   Sep         9       242  0.78    Fall\n",
       "9   San Diego  32.715736 -117.161087   Oct        10       262  1.81    Fall\n",
       "10  San Diego  32.715736 -117.161087   Nov        11       212  2.27    Fall\n",
       "11  San Diego  32.715736 -117.161087   Dec        12       216  1.98  Winter\n",
       "60      Miami  25.761681  -80.191788   Jan         1       222  1.62  Winter\n",
       "61      Miami  25.761681  -80.191788   Feb         2       227  2.25  Winter\n",
       "62      Miami  25.761681  -80.191788   Mar         3       266  3.00  Spring\n",
       "63      Miami  25.761681  -80.191788   Apr         4       275  3.14  Spring\n",
       "64      Miami  25.761681  -80.191788   May         5       280  5.34  Spring\n",
       "65      Miami  25.761681  -80.191788   Jun         6       251  9.67  Summer\n",
       "66      Miami  25.761681  -80.191788   Jul         7       267  6.50  Summer\n",
       "67      Miami  25.761681  -80.191788   Aug         8       263  8.88  Summer\n",
       "68      Miami  25.761681  -80.191788   Sep         9       216  9.86    Fall\n",
       "69      Miami  25.761681  -80.191788   Oct        10       215  6.33    Fall\n",
       "70      Miami  25.761681  -80.191788   Nov        11       212  3.27    Fall\n",
       "71      Miami  25.761681  -80.191788   Dec        12       209  2.04  Winter"
      ]
     },
     "execution_count": 7,
     "metadata": {},
     "output_type": "execute_result"
    }
   ],
   "source": [
    "def assign_season(month_num):\n",
    "    if month_num in [1,2,12]:\n",
    "        return 'Winter'\n",
    "    elif month_num in [3,4,5]:\n",
    "        return 'Spring'\n",
    "    elif month_num in [6,7,8]:\n",
    "        return 'Summer'\n",
    "    else:\n",
    "        return 'Fall'\n",
    "    \n",
    "SD_M_Climate['season'] = SD_M_Climate['monthnum'].apply(assign_season)\n",
    "SD_M_Climate"
   ]
  },
  {
   "cell_type": "code",
   "execution_count": 8,
   "metadata": {},
   "outputs": [
    {
     "data": {
      "text/html": [
       "<div>\n",
       "<style scoped>\n",
       "    .dataframe tbody tr th:only-of-type {\n",
       "        vertical-align: middle;\n",
       "    }\n",
       "\n",
       "    .dataframe tbody tr th {\n",
       "        vertical-align: top;\n",
       "    }\n",
       "\n",
       "    .dataframe thead th {\n",
       "        text-align: right;\n",
       "    }\n",
       "</style>\n",
       "<table border=\"1\" class=\"dataframe\">\n",
       "  <thead>\n",
       "    <tr style=\"text-align: right;\">\n",
       "      <th></th>\n",
       "      <th>city</th>\n",
       "      <th>lat</th>\n",
       "      <th>lon</th>\n",
       "      <th>month</th>\n",
       "      <th>monthnum</th>\n",
       "      <th>sunshine</th>\n",
       "      <th>rain</th>\n",
       "      <th>season</th>\n",
       "    </tr>\n",
       "  </thead>\n",
       "  <tbody>\n",
       "    <tr>\n",
       "      <th>0</th>\n",
       "      <td>San Diego</td>\n",
       "      <td>32.715736</td>\n",
       "      <td>-117.161087</td>\n",
       "      <td>Jan</td>\n",
       "      <td>1</td>\n",
       "      <td>217</td>\n",
       "      <td>1.53</td>\n",
       "      <td>Winter</td>\n",
       "    </tr>\n",
       "    <tr>\n",
       "      <th>1</th>\n",
       "      <td>San Diego</td>\n",
       "      <td>32.715736</td>\n",
       "      <td>-117.161087</td>\n",
       "      <td>Feb</td>\n",
       "      <td>2</td>\n",
       "      <td>255</td>\n",
       "      <td>0.15</td>\n",
       "      <td>Winter</td>\n",
       "    </tr>\n",
       "    <tr>\n",
       "      <th>2</th>\n",
       "      <td>San Diego</td>\n",
       "      <td>32.715736</td>\n",
       "      <td>-117.161087</td>\n",
       "      <td>Mar</td>\n",
       "      <td>3</td>\n",
       "      <td>234</td>\n",
       "      <td>0.57</td>\n",
       "      <td>Spring</td>\n",
       "    </tr>\n",
       "    <tr>\n",
       "      <th>3</th>\n",
       "      <td>San Diego</td>\n",
       "      <td>32.715736</td>\n",
       "      <td>-117.161087</td>\n",
       "      <td>Apr</td>\n",
       "      <td>4</td>\n",
       "      <td>236</td>\n",
       "      <td>1.01</td>\n",
       "      <td>Spring</td>\n",
       "    </tr>\n",
       "    <tr>\n",
       "      <th>4</th>\n",
       "      <td>San Diego</td>\n",
       "      <td>32.715736</td>\n",
       "      <td>-117.161087</td>\n",
       "      <td>May</td>\n",
       "      <td>5</td>\n",
       "      <td>277</td>\n",
       "      <td>0.02</td>\n",
       "      <td>Spring</td>\n",
       "    </tr>\n",
       "    <tr>\n",
       "      <th>5</th>\n",
       "      <td>San Diego</td>\n",
       "      <td>32.715736</td>\n",
       "      <td>-117.161087</td>\n",
       "      <td>Jun</td>\n",
       "      <td>6</td>\n",
       "      <td>293</td>\n",
       "      <td>0.03</td>\n",
       "      <td>Summer</td>\n",
       "    </tr>\n",
       "    <tr>\n",
       "      <th>6</th>\n",
       "      <td>San Diego</td>\n",
       "      <td>32.715736</td>\n",
       "      <td>-117.161087</td>\n",
       "      <td>Jul</td>\n",
       "      <td>7</td>\n",
       "      <td>253</td>\n",
       "      <td>0.07</td>\n",
       "      <td>Summer</td>\n",
       "    </tr>\n",
       "    <tr>\n",
       "      <th>7</th>\n",
       "      <td>San Diego</td>\n",
       "      <td>32.715736</td>\n",
       "      <td>-117.161087</td>\n",
       "      <td>Aug</td>\n",
       "      <td>8</td>\n",
       "      <td>261</td>\n",
       "      <td>0.12</td>\n",
       "      <td>Summer</td>\n",
       "    </tr>\n",
       "    <tr>\n",
       "      <th>8</th>\n",
       "      <td>San Diego</td>\n",
       "      <td>32.715736</td>\n",
       "      <td>-117.161087</td>\n",
       "      <td>Sep</td>\n",
       "      <td>9</td>\n",
       "      <td>242</td>\n",
       "      <td>0.78</td>\n",
       "      <td>Fall</td>\n",
       "    </tr>\n",
       "    <tr>\n",
       "      <th>9</th>\n",
       "      <td>San Diego</td>\n",
       "      <td>32.715736</td>\n",
       "      <td>-117.161087</td>\n",
       "      <td>Oct</td>\n",
       "      <td>10</td>\n",
       "      <td>262</td>\n",
       "      <td>1.81</td>\n",
       "      <td>Fall</td>\n",
       "    </tr>\n",
       "    <tr>\n",
       "      <th>10</th>\n",
       "      <td>San Diego</td>\n",
       "      <td>32.715736</td>\n",
       "      <td>-117.161087</td>\n",
       "      <td>Nov</td>\n",
       "      <td>11</td>\n",
       "      <td>212</td>\n",
       "      <td>2.27</td>\n",
       "      <td>Fall</td>\n",
       "    </tr>\n",
       "    <tr>\n",
       "      <th>11</th>\n",
       "      <td>San Diego</td>\n",
       "      <td>32.715736</td>\n",
       "      <td>-117.161087</td>\n",
       "      <td>Dec</td>\n",
       "      <td>12</td>\n",
       "      <td>216</td>\n",
       "      <td>1.98</td>\n",
       "      <td>Winter</td>\n",
       "    </tr>\n",
       "  </tbody>\n",
       "</table>\n",
       "</div>"
      ],
      "text/plain": [
       "         city        lat         lon month  monthnum  sunshine  rain  season\n",
       "0   San Diego  32.715736 -117.161087   Jan         1       217  1.53  Winter\n",
       "1   San Diego  32.715736 -117.161087   Feb         2       255  0.15  Winter\n",
       "2   San Diego  32.715736 -117.161087   Mar         3       234  0.57  Spring\n",
       "3   San Diego  32.715736 -117.161087   Apr         4       236  1.01  Spring\n",
       "4   San Diego  32.715736 -117.161087   May         5       277  0.02  Spring\n",
       "5   San Diego  32.715736 -117.161087   Jun         6       293  0.03  Summer\n",
       "6   San Diego  32.715736 -117.161087   Jul         7       253  0.07  Summer\n",
       "7   San Diego  32.715736 -117.161087   Aug         8       261  0.12  Summer\n",
       "8   San Diego  32.715736 -117.161087   Sep         9       242  0.78    Fall\n",
       "9   San Diego  32.715736 -117.161087   Oct        10       262  1.81    Fall\n",
       "10  San Diego  32.715736 -117.161087   Nov        11       212  2.27    Fall\n",
       "11  San Diego  32.715736 -117.161087   Dec        12       216  1.98  Winter"
      ]
     },
     "execution_count": 8,
     "metadata": {},
     "output_type": "execute_result"
    }
   ],
   "source": [
    "SD_Climate['season'] = SD_Climate['monthnum'].apply(assign_season)\n",
    "SD_Climate"
   ]
  },
  {
   "cell_type": "code",
   "execution_count": 9,
   "metadata": {},
   "outputs": [
    {
     "data": {
      "text/html": [
       "<div>\n",
       "<style scoped>\n",
       "    .dataframe tbody tr th:only-of-type {\n",
       "        vertical-align: middle;\n",
       "    }\n",
       "\n",
       "    .dataframe tbody tr th {\n",
       "        vertical-align: top;\n",
       "    }\n",
       "\n",
       "    .dataframe thead th {\n",
       "        text-align: right;\n",
       "    }\n",
       "</style>\n",
       "<table border=\"1\" class=\"dataframe\">\n",
       "  <thead>\n",
       "    <tr style=\"text-align: right;\">\n",
       "      <th></th>\n",
       "      <th>city</th>\n",
       "      <th>lat</th>\n",
       "      <th>lon</th>\n",
       "      <th>month</th>\n",
       "      <th>monthnum</th>\n",
       "      <th>sunshine</th>\n",
       "      <th>rain</th>\n",
       "      <th>season</th>\n",
       "    </tr>\n",
       "  </thead>\n",
       "  <tbody>\n",
       "    <tr>\n",
       "      <th>60</th>\n",
       "      <td>Miami</td>\n",
       "      <td>25.761681</td>\n",
       "      <td>-80.191788</td>\n",
       "      <td>Jan</td>\n",
       "      <td>1</td>\n",
       "      <td>222</td>\n",
       "      <td>1.62</td>\n",
       "      <td>Winter</td>\n",
       "    </tr>\n",
       "    <tr>\n",
       "      <th>61</th>\n",
       "      <td>Miami</td>\n",
       "      <td>25.761681</td>\n",
       "      <td>-80.191788</td>\n",
       "      <td>Feb</td>\n",
       "      <td>2</td>\n",
       "      <td>227</td>\n",
       "      <td>2.25</td>\n",
       "      <td>Winter</td>\n",
       "    </tr>\n",
       "    <tr>\n",
       "      <th>62</th>\n",
       "      <td>Miami</td>\n",
       "      <td>25.761681</td>\n",
       "      <td>-80.191788</td>\n",
       "      <td>Mar</td>\n",
       "      <td>3</td>\n",
       "      <td>266</td>\n",
       "      <td>3.00</td>\n",
       "      <td>Spring</td>\n",
       "    </tr>\n",
       "    <tr>\n",
       "      <th>63</th>\n",
       "      <td>Miami</td>\n",
       "      <td>25.761681</td>\n",
       "      <td>-80.191788</td>\n",
       "      <td>Apr</td>\n",
       "      <td>4</td>\n",
       "      <td>275</td>\n",
       "      <td>3.14</td>\n",
       "      <td>Spring</td>\n",
       "    </tr>\n",
       "    <tr>\n",
       "      <th>64</th>\n",
       "      <td>Miami</td>\n",
       "      <td>25.761681</td>\n",
       "      <td>-80.191788</td>\n",
       "      <td>May</td>\n",
       "      <td>5</td>\n",
       "      <td>280</td>\n",
       "      <td>5.34</td>\n",
       "      <td>Spring</td>\n",
       "    </tr>\n",
       "    <tr>\n",
       "      <th>65</th>\n",
       "      <td>Miami</td>\n",
       "      <td>25.761681</td>\n",
       "      <td>-80.191788</td>\n",
       "      <td>Jun</td>\n",
       "      <td>6</td>\n",
       "      <td>251</td>\n",
       "      <td>9.67</td>\n",
       "      <td>Summer</td>\n",
       "    </tr>\n",
       "    <tr>\n",
       "      <th>66</th>\n",
       "      <td>Miami</td>\n",
       "      <td>25.761681</td>\n",
       "      <td>-80.191788</td>\n",
       "      <td>Jul</td>\n",
       "      <td>7</td>\n",
       "      <td>267</td>\n",
       "      <td>6.50</td>\n",
       "      <td>Summer</td>\n",
       "    </tr>\n",
       "    <tr>\n",
       "      <th>67</th>\n",
       "      <td>Miami</td>\n",
       "      <td>25.761681</td>\n",
       "      <td>-80.191788</td>\n",
       "      <td>Aug</td>\n",
       "      <td>8</td>\n",
       "      <td>263</td>\n",
       "      <td>8.88</td>\n",
       "      <td>Summer</td>\n",
       "    </tr>\n",
       "    <tr>\n",
       "      <th>68</th>\n",
       "      <td>Miami</td>\n",
       "      <td>25.761681</td>\n",
       "      <td>-80.191788</td>\n",
       "      <td>Sep</td>\n",
       "      <td>9</td>\n",
       "      <td>216</td>\n",
       "      <td>9.86</td>\n",
       "      <td>Fall</td>\n",
       "    </tr>\n",
       "    <tr>\n",
       "      <th>69</th>\n",
       "      <td>Miami</td>\n",
       "      <td>25.761681</td>\n",
       "      <td>-80.191788</td>\n",
       "      <td>Oct</td>\n",
       "      <td>10</td>\n",
       "      <td>215</td>\n",
       "      <td>6.33</td>\n",
       "      <td>Fall</td>\n",
       "    </tr>\n",
       "    <tr>\n",
       "      <th>70</th>\n",
       "      <td>Miami</td>\n",
       "      <td>25.761681</td>\n",
       "      <td>-80.191788</td>\n",
       "      <td>Nov</td>\n",
       "      <td>11</td>\n",
       "      <td>212</td>\n",
       "      <td>3.27</td>\n",
       "      <td>Fall</td>\n",
       "    </tr>\n",
       "    <tr>\n",
       "      <th>71</th>\n",
       "      <td>Miami</td>\n",
       "      <td>25.761681</td>\n",
       "      <td>-80.191788</td>\n",
       "      <td>Dec</td>\n",
       "      <td>12</td>\n",
       "      <td>209</td>\n",
       "      <td>2.04</td>\n",
       "      <td>Winter</td>\n",
       "    </tr>\n",
       "  </tbody>\n",
       "</table>\n",
       "</div>"
      ],
      "text/plain": [
       "     city        lat        lon month  monthnum  sunshine  rain  season\n",
       "60  Miami  25.761681 -80.191788   Jan         1       222  1.62  Winter\n",
       "61  Miami  25.761681 -80.191788   Feb         2       227  2.25  Winter\n",
       "62  Miami  25.761681 -80.191788   Mar         3       266  3.00  Spring\n",
       "63  Miami  25.761681 -80.191788   Apr         4       275  3.14  Spring\n",
       "64  Miami  25.761681 -80.191788   May         5       280  5.34  Spring\n",
       "65  Miami  25.761681 -80.191788   Jun         6       251  9.67  Summer\n",
       "66  Miami  25.761681 -80.191788   Jul         7       267  6.50  Summer\n",
       "67  Miami  25.761681 -80.191788   Aug         8       263  8.88  Summer\n",
       "68  Miami  25.761681 -80.191788   Sep         9       216  9.86    Fall\n",
       "69  Miami  25.761681 -80.191788   Oct        10       215  6.33    Fall\n",
       "70  Miami  25.761681 -80.191788   Nov        11       212  3.27    Fall\n",
       "71  Miami  25.761681 -80.191788   Dec        12       209  2.04  Winter"
      ]
     },
     "execution_count": 9,
     "metadata": {},
     "output_type": "execute_result"
    }
   ],
   "source": [
    "Miami_Climate['season'] = Miami_Climate['monthnum'].apply(assign_season)\n",
    "Miami_Climate"
   ]
  },
  {
   "cell_type": "code",
   "execution_count": 10,
   "metadata": {},
   "outputs": [
    {
     "data": {
      "text/html": [
       "<div>\n",
       "<style scoped>\n",
       "    .dataframe tbody tr th:only-of-type {\n",
       "        vertical-align: middle;\n",
       "    }\n",
       "\n",
       "    .dataframe tbody tr th {\n",
       "        vertical-align: top;\n",
       "    }\n",
       "\n",
       "    .dataframe thead th {\n",
       "        text-align: right;\n",
       "    }\n",
       "</style>\n",
       "<table border=\"1\" class=\"dataframe\">\n",
       "  <thead>\n",
       "    <tr style=\"text-align: right;\">\n",
       "      <th></th>\n",
       "      <th>city</th>\n",
       "      <th>season</th>\n",
       "      <th>sunshine</th>\n",
       "      <th>rain</th>\n",
       "    </tr>\n",
       "  </thead>\n",
       "  <tbody>\n",
       "    <tr>\n",
       "      <th>0</th>\n",
       "      <td>Miami</td>\n",
       "      <td>Fall</td>\n",
       "      <td>214.333333</td>\n",
       "      <td>6.486667</td>\n",
       "    </tr>\n",
       "    <tr>\n",
       "      <th>1</th>\n",
       "      <td>Miami</td>\n",
       "      <td>Spring</td>\n",
       "      <td>273.666667</td>\n",
       "      <td>3.826667</td>\n",
       "    </tr>\n",
       "    <tr>\n",
       "      <th>2</th>\n",
       "      <td>Miami</td>\n",
       "      <td>Summer</td>\n",
       "      <td>260.333333</td>\n",
       "      <td>8.350000</td>\n",
       "    </tr>\n",
       "    <tr>\n",
       "      <th>3</th>\n",
       "      <td>Miami</td>\n",
       "      <td>Winter</td>\n",
       "      <td>219.333333</td>\n",
       "      <td>1.970000</td>\n",
       "    </tr>\n",
       "    <tr>\n",
       "      <th>4</th>\n",
       "      <td>San Diego</td>\n",
       "      <td>Fall</td>\n",
       "      <td>238.666667</td>\n",
       "      <td>1.620000</td>\n",
       "    </tr>\n",
       "    <tr>\n",
       "      <th>5</th>\n",
       "      <td>San Diego</td>\n",
       "      <td>Spring</td>\n",
       "      <td>249.000000</td>\n",
       "      <td>0.533333</td>\n",
       "    </tr>\n",
       "    <tr>\n",
       "      <th>6</th>\n",
       "      <td>San Diego</td>\n",
       "      <td>Summer</td>\n",
       "      <td>269.000000</td>\n",
       "      <td>0.073333</td>\n",
       "    </tr>\n",
       "    <tr>\n",
       "      <th>7</th>\n",
       "      <td>San Diego</td>\n",
       "      <td>Winter</td>\n",
       "      <td>229.333333</td>\n",
       "      <td>1.220000</td>\n",
       "    </tr>\n",
       "  </tbody>\n",
       "</table>\n",
       "</div>"
      ],
      "text/plain": [
       "        city  season    sunshine      rain\n",
       "0      Miami    Fall  214.333333  6.486667\n",
       "1      Miami  Spring  273.666667  3.826667\n",
       "2      Miami  Summer  260.333333  8.350000\n",
       "3      Miami  Winter  219.333333  1.970000\n",
       "4  San Diego    Fall  238.666667  1.620000\n",
       "5  San Diego  Spring  249.000000  0.533333\n",
       "6  San Diego  Summer  269.000000  0.073333\n",
       "7  San Diego  Winter  229.333333  1.220000"
      ]
     },
     "execution_count": 10,
     "metadata": {},
     "output_type": "execute_result"
    }
   ],
   "source": [
    "SD_M_Climate.groupby(['city','season'])[['sunshine', 'rain']].mean().reset_index()"
   ]
  },
  {
   "cell_type": "code",
   "execution_count": 11,
   "metadata": {},
   "outputs": [
    {
     "data": {
      "application/vnd.plotly.v1+json": {
       "config": {
        "plotlyServerURL": "https://plot.ly"
       },
       "data": [
        {
         "hovertemplate": "City=Miami<br>Season=%{x}<br>Average Sunshine=%{y}<extra></extra>",
         "legendgroup": "Miami",
         "marker": {
          "color": "#636efa",
          "symbol": "circle"
         },
         "mode": "markers",
         "name": "Miami",
         "orientation": "v",
         "showlegend": true,
         "type": "scatter",
         "x": [
          "Fall",
          "Spring",
          "Summer",
          "Winter"
         ],
         "xaxis": "x",
         "y": [
          214.33333333333334,
          273.6666666666667,
          260.3333333333333,
          219.33333333333334
         ],
         "yaxis": "y"
        },
        {
         "hovertemplate": "City=San Diego<br>Season=%{x}<br>Average Sunshine=%{y}<extra></extra>",
         "legendgroup": "San Diego",
         "marker": {
          "color": "#EF553B",
          "symbol": "circle"
         },
         "mode": "markers",
         "name": "San Diego",
         "orientation": "v",
         "showlegend": true,
         "type": "scatter",
         "x": [
          "Fall",
          "Spring",
          "Summer",
          "Winter"
         ],
         "xaxis": "x",
         "y": [
          238.66666666666666,
          249,
          269,
          229.33333333333334
         ],
         "yaxis": "y"
        }
       ],
       "layout": {
        "legend": {
         "title": {
          "text": "City"
         },
         "tracegroupgap": 0
        },
        "template": {
         "data": {
          "bar": [
           {
            "error_x": {
             "color": "#2a3f5f"
            },
            "error_y": {
             "color": "#2a3f5f"
            },
            "marker": {
             "line": {
              "color": "#E5ECF6",
              "width": 0.5
             },
             "pattern": {
              "fillmode": "overlay",
              "size": 10,
              "solidity": 0.2
             }
            },
            "type": "bar"
           }
          ],
          "barpolar": [
           {
            "marker": {
             "line": {
              "color": "#E5ECF6",
              "width": 0.5
             },
             "pattern": {
              "fillmode": "overlay",
              "size": 10,
              "solidity": 0.2
             }
            },
            "type": "barpolar"
           }
          ],
          "carpet": [
           {
            "aaxis": {
             "endlinecolor": "#2a3f5f",
             "gridcolor": "white",
             "linecolor": "white",
             "minorgridcolor": "white",
             "startlinecolor": "#2a3f5f"
            },
            "baxis": {
             "endlinecolor": "#2a3f5f",
             "gridcolor": "white",
             "linecolor": "white",
             "minorgridcolor": "white",
             "startlinecolor": "#2a3f5f"
            },
            "type": "carpet"
           }
          ],
          "choropleth": [
           {
            "colorbar": {
             "outlinewidth": 0,
             "ticks": ""
            },
            "type": "choropleth"
           }
          ],
          "contour": [
           {
            "colorbar": {
             "outlinewidth": 0,
             "ticks": ""
            },
            "colorscale": [
             [
              0,
              "#0d0887"
             ],
             [
              0.1111111111111111,
              "#46039f"
             ],
             [
              0.2222222222222222,
              "#7201a8"
             ],
             [
              0.3333333333333333,
              "#9c179e"
             ],
             [
              0.4444444444444444,
              "#bd3786"
             ],
             [
              0.5555555555555556,
              "#d8576b"
             ],
             [
              0.6666666666666666,
              "#ed7953"
             ],
             [
              0.7777777777777778,
              "#fb9f3a"
             ],
             [
              0.8888888888888888,
              "#fdca26"
             ],
             [
              1,
              "#f0f921"
             ]
            ],
            "type": "contour"
           }
          ],
          "contourcarpet": [
           {
            "colorbar": {
             "outlinewidth": 0,
             "ticks": ""
            },
            "type": "contourcarpet"
           }
          ],
          "heatmap": [
           {
            "colorbar": {
             "outlinewidth": 0,
             "ticks": ""
            },
            "colorscale": [
             [
              0,
              "#0d0887"
             ],
             [
              0.1111111111111111,
              "#46039f"
             ],
             [
              0.2222222222222222,
              "#7201a8"
             ],
             [
              0.3333333333333333,
              "#9c179e"
             ],
             [
              0.4444444444444444,
              "#bd3786"
             ],
             [
              0.5555555555555556,
              "#d8576b"
             ],
             [
              0.6666666666666666,
              "#ed7953"
             ],
             [
              0.7777777777777778,
              "#fb9f3a"
             ],
             [
              0.8888888888888888,
              "#fdca26"
             ],
             [
              1,
              "#f0f921"
             ]
            ],
            "type": "heatmap"
           }
          ],
          "heatmapgl": [
           {
            "colorbar": {
             "outlinewidth": 0,
             "ticks": ""
            },
            "colorscale": [
             [
              0,
              "#0d0887"
             ],
             [
              0.1111111111111111,
              "#46039f"
             ],
             [
              0.2222222222222222,
              "#7201a8"
             ],
             [
              0.3333333333333333,
              "#9c179e"
             ],
             [
              0.4444444444444444,
              "#bd3786"
             ],
             [
              0.5555555555555556,
              "#d8576b"
             ],
             [
              0.6666666666666666,
              "#ed7953"
             ],
             [
              0.7777777777777778,
              "#fb9f3a"
             ],
             [
              0.8888888888888888,
              "#fdca26"
             ],
             [
              1,
              "#f0f921"
             ]
            ],
            "type": "heatmapgl"
           }
          ],
          "histogram": [
           {
            "marker": {
             "pattern": {
              "fillmode": "overlay",
              "size": 10,
              "solidity": 0.2
             }
            },
            "type": "histogram"
           }
          ],
          "histogram2d": [
           {
            "colorbar": {
             "outlinewidth": 0,
             "ticks": ""
            },
            "colorscale": [
             [
              0,
              "#0d0887"
             ],
             [
              0.1111111111111111,
              "#46039f"
             ],
             [
              0.2222222222222222,
              "#7201a8"
             ],
             [
              0.3333333333333333,
              "#9c179e"
             ],
             [
              0.4444444444444444,
              "#bd3786"
             ],
             [
              0.5555555555555556,
              "#d8576b"
             ],
             [
              0.6666666666666666,
              "#ed7953"
             ],
             [
              0.7777777777777778,
              "#fb9f3a"
             ],
             [
              0.8888888888888888,
              "#fdca26"
             ],
             [
              1,
              "#f0f921"
             ]
            ],
            "type": "histogram2d"
           }
          ],
          "histogram2dcontour": [
           {
            "colorbar": {
             "outlinewidth": 0,
             "ticks": ""
            },
            "colorscale": [
             [
              0,
              "#0d0887"
             ],
             [
              0.1111111111111111,
              "#46039f"
             ],
             [
              0.2222222222222222,
              "#7201a8"
             ],
             [
              0.3333333333333333,
              "#9c179e"
             ],
             [
              0.4444444444444444,
              "#bd3786"
             ],
             [
              0.5555555555555556,
              "#d8576b"
             ],
             [
              0.6666666666666666,
              "#ed7953"
             ],
             [
              0.7777777777777778,
              "#fb9f3a"
             ],
             [
              0.8888888888888888,
              "#fdca26"
             ],
             [
              1,
              "#f0f921"
             ]
            ],
            "type": "histogram2dcontour"
           }
          ],
          "mesh3d": [
           {
            "colorbar": {
             "outlinewidth": 0,
             "ticks": ""
            },
            "type": "mesh3d"
           }
          ],
          "parcoords": [
           {
            "line": {
             "colorbar": {
              "outlinewidth": 0,
              "ticks": ""
             }
            },
            "type": "parcoords"
           }
          ],
          "pie": [
           {
            "automargin": true,
            "type": "pie"
           }
          ],
          "scatter": [
           {
            "fillpattern": {
             "fillmode": "overlay",
             "size": 10,
             "solidity": 0.2
            },
            "type": "scatter"
           }
          ],
          "scatter3d": [
           {
            "line": {
             "colorbar": {
              "outlinewidth": 0,
              "ticks": ""
             }
            },
            "marker": {
             "colorbar": {
              "outlinewidth": 0,
              "ticks": ""
             }
            },
            "type": "scatter3d"
           }
          ],
          "scattercarpet": [
           {
            "marker": {
             "colorbar": {
              "outlinewidth": 0,
              "ticks": ""
             }
            },
            "type": "scattercarpet"
           }
          ],
          "scattergeo": [
           {
            "marker": {
             "colorbar": {
              "outlinewidth": 0,
              "ticks": ""
             }
            },
            "type": "scattergeo"
           }
          ],
          "scattergl": [
           {
            "marker": {
             "colorbar": {
              "outlinewidth": 0,
              "ticks": ""
             }
            },
            "type": "scattergl"
           }
          ],
          "scattermapbox": [
           {
            "marker": {
             "colorbar": {
              "outlinewidth": 0,
              "ticks": ""
             }
            },
            "type": "scattermapbox"
           }
          ],
          "scatterpolar": [
           {
            "marker": {
             "colorbar": {
              "outlinewidth": 0,
              "ticks": ""
             }
            },
            "type": "scatterpolar"
           }
          ],
          "scatterpolargl": [
           {
            "marker": {
             "colorbar": {
              "outlinewidth": 0,
              "ticks": ""
             }
            },
            "type": "scatterpolargl"
           }
          ],
          "scatterternary": [
           {
            "marker": {
             "colorbar": {
              "outlinewidth": 0,
              "ticks": ""
             }
            },
            "type": "scatterternary"
           }
          ],
          "surface": [
           {
            "colorbar": {
             "outlinewidth": 0,
             "ticks": ""
            },
            "colorscale": [
             [
              0,
              "#0d0887"
             ],
             [
              0.1111111111111111,
              "#46039f"
             ],
             [
              0.2222222222222222,
              "#7201a8"
             ],
             [
              0.3333333333333333,
              "#9c179e"
             ],
             [
              0.4444444444444444,
              "#bd3786"
             ],
             [
              0.5555555555555556,
              "#d8576b"
             ],
             [
              0.6666666666666666,
              "#ed7953"
             ],
             [
              0.7777777777777778,
              "#fb9f3a"
             ],
             [
              0.8888888888888888,
              "#fdca26"
             ],
             [
              1,
              "#f0f921"
             ]
            ],
            "type": "surface"
           }
          ],
          "table": [
           {
            "cells": {
             "fill": {
              "color": "#EBF0F8"
             },
             "line": {
              "color": "white"
             }
            },
            "header": {
             "fill": {
              "color": "#C8D4E3"
             },
             "line": {
              "color": "white"
             }
            },
            "type": "table"
           }
          ]
         },
         "layout": {
          "annotationdefaults": {
           "arrowcolor": "#2a3f5f",
           "arrowhead": 0,
           "arrowwidth": 1
          },
          "autotypenumbers": "strict",
          "coloraxis": {
           "colorbar": {
            "outlinewidth": 0,
            "ticks": ""
           }
          },
          "colorscale": {
           "diverging": [
            [
             0,
             "#8e0152"
            ],
            [
             0.1,
             "#c51b7d"
            ],
            [
             0.2,
             "#de77ae"
            ],
            [
             0.3,
             "#f1b6da"
            ],
            [
             0.4,
             "#fde0ef"
            ],
            [
             0.5,
             "#f7f7f7"
            ],
            [
             0.6,
             "#e6f5d0"
            ],
            [
             0.7,
             "#b8e186"
            ],
            [
             0.8,
             "#7fbc41"
            ],
            [
             0.9,
             "#4d9221"
            ],
            [
             1,
             "#276419"
            ]
           ],
           "sequential": [
            [
             0,
             "#0d0887"
            ],
            [
             0.1111111111111111,
             "#46039f"
            ],
            [
             0.2222222222222222,
             "#7201a8"
            ],
            [
             0.3333333333333333,
             "#9c179e"
            ],
            [
             0.4444444444444444,
             "#bd3786"
            ],
            [
             0.5555555555555556,
             "#d8576b"
            ],
            [
             0.6666666666666666,
             "#ed7953"
            ],
            [
             0.7777777777777778,
             "#fb9f3a"
            ],
            [
             0.8888888888888888,
             "#fdca26"
            ],
            [
             1,
             "#f0f921"
            ]
           ],
           "sequentialminus": [
            [
             0,
             "#0d0887"
            ],
            [
             0.1111111111111111,
             "#46039f"
            ],
            [
             0.2222222222222222,
             "#7201a8"
            ],
            [
             0.3333333333333333,
             "#9c179e"
            ],
            [
             0.4444444444444444,
             "#bd3786"
            ],
            [
             0.5555555555555556,
             "#d8576b"
            ],
            [
             0.6666666666666666,
             "#ed7953"
            ],
            [
             0.7777777777777778,
             "#fb9f3a"
            ],
            [
             0.8888888888888888,
             "#fdca26"
            ],
            [
             1,
             "#f0f921"
            ]
           ]
          },
          "colorway": [
           "#636efa",
           "#EF553B",
           "#00cc96",
           "#ab63fa",
           "#FFA15A",
           "#19d3f3",
           "#FF6692",
           "#B6E880",
           "#FF97FF",
           "#FECB52"
          ],
          "font": {
           "color": "#2a3f5f"
          },
          "geo": {
           "bgcolor": "white",
           "lakecolor": "white",
           "landcolor": "#E5ECF6",
           "showlakes": true,
           "showland": true,
           "subunitcolor": "white"
          },
          "hoverlabel": {
           "align": "left"
          },
          "hovermode": "closest",
          "mapbox": {
           "style": "light"
          },
          "paper_bgcolor": "white",
          "plot_bgcolor": "#E5ECF6",
          "polar": {
           "angularaxis": {
            "gridcolor": "white",
            "linecolor": "white",
            "ticks": ""
           },
           "bgcolor": "#E5ECF6",
           "radialaxis": {
            "gridcolor": "white",
            "linecolor": "white",
            "ticks": ""
           }
          },
          "scene": {
           "xaxis": {
            "backgroundcolor": "#E5ECF6",
            "gridcolor": "white",
            "gridwidth": 2,
            "linecolor": "white",
            "showbackground": true,
            "ticks": "",
            "zerolinecolor": "white"
           },
           "yaxis": {
            "backgroundcolor": "#E5ECF6",
            "gridcolor": "white",
            "gridwidth": 2,
            "linecolor": "white",
            "showbackground": true,
            "ticks": "",
            "zerolinecolor": "white"
           },
           "zaxis": {
            "backgroundcolor": "#E5ECF6",
            "gridcolor": "white",
            "gridwidth": 2,
            "linecolor": "white",
            "showbackground": true,
            "ticks": "",
            "zerolinecolor": "white"
           }
          },
          "shapedefaults": {
           "line": {
            "color": "#2a3f5f"
           }
          },
          "ternary": {
           "aaxis": {
            "gridcolor": "white",
            "linecolor": "white",
            "ticks": ""
           },
           "baxis": {
            "gridcolor": "white",
            "linecolor": "white",
            "ticks": ""
           },
           "bgcolor": "#E5ECF6",
           "caxis": {
            "gridcolor": "white",
            "linecolor": "white",
            "ticks": ""
           }
          },
          "title": {
           "x": 0.05
          },
          "xaxis": {
           "automargin": true,
           "gridcolor": "white",
           "linecolor": "white",
           "ticks": "",
           "title": {
            "standoff": 15
           },
           "zerolinecolor": "white",
           "zerolinewidth": 2
          },
          "yaxis": {
           "automargin": true,
           "gridcolor": "white",
           "linecolor": "white",
           "ticks": "",
           "title": {
            "standoff": 15
           },
           "zerolinecolor": "white",
           "zerolinewidth": 2
          }
         }
        },
        "title": {
         "text": "Comparison of Average Hours of Sunshine for San Diego and Miami by Season"
        },
        "xaxis": {
         "anchor": "y",
         "domain": [
          0,
          1
         ],
         "title": {
          "text": "Season"
         }
        },
        "yaxis": {
         "anchor": "x",
         "domain": [
          0,
          1
         ],
         "title": {
          "text": "Average Sunshine"
         }
        }
       }
      }
     },
     "metadata": {},
     "output_type": "display_data"
    },
    {
     "data": {
      "application/vnd.plotly.v1+json": {
       "config": {
        "plotlyServerURL": "https://plot.ly"
       },
       "data": [
        {
         "hovertemplate": "City=Miami<br>Season=%{x}<br>Average Rainfall=%{y}<extra></extra>",
         "legendgroup": "Miami",
         "marker": {
          "color": "#636efa",
          "symbol": "circle"
         },
         "mode": "markers",
         "name": "Miami",
         "orientation": "v",
         "showlegend": true,
         "type": "scatter",
         "x": [
          "Fall",
          "Spring",
          "Summer",
          "Winter"
         ],
         "xaxis": "x",
         "y": [
          6.486666666666667,
          3.8266666666666667,
          8.35,
          1.97
         ],
         "yaxis": "y"
        },
        {
         "hovertemplate": "City=San Diego<br>Season=%{x}<br>Average Rainfall=%{y}<extra></extra>",
         "legendgroup": "San Diego",
         "marker": {
          "color": "#EF553B",
          "symbol": "circle"
         },
         "mode": "markers",
         "name": "San Diego",
         "orientation": "v",
         "showlegend": true,
         "type": "scatter",
         "x": [
          "Fall",
          "Spring",
          "Summer",
          "Winter"
         ],
         "xaxis": "x",
         "y": [
          1.62,
          0.5333333333333333,
          0.07333333333333333,
          1.22
         ],
         "yaxis": "y"
        }
       ],
       "layout": {
        "legend": {
         "title": {
          "text": "City"
         },
         "tracegroupgap": 0
        },
        "template": {
         "data": {
          "bar": [
           {
            "error_x": {
             "color": "#2a3f5f"
            },
            "error_y": {
             "color": "#2a3f5f"
            },
            "marker": {
             "line": {
              "color": "#E5ECF6",
              "width": 0.5
             },
             "pattern": {
              "fillmode": "overlay",
              "size": 10,
              "solidity": 0.2
             }
            },
            "type": "bar"
           }
          ],
          "barpolar": [
           {
            "marker": {
             "line": {
              "color": "#E5ECF6",
              "width": 0.5
             },
             "pattern": {
              "fillmode": "overlay",
              "size": 10,
              "solidity": 0.2
             }
            },
            "type": "barpolar"
           }
          ],
          "carpet": [
           {
            "aaxis": {
             "endlinecolor": "#2a3f5f",
             "gridcolor": "white",
             "linecolor": "white",
             "minorgridcolor": "white",
             "startlinecolor": "#2a3f5f"
            },
            "baxis": {
             "endlinecolor": "#2a3f5f",
             "gridcolor": "white",
             "linecolor": "white",
             "minorgridcolor": "white",
             "startlinecolor": "#2a3f5f"
            },
            "type": "carpet"
           }
          ],
          "choropleth": [
           {
            "colorbar": {
             "outlinewidth": 0,
             "ticks": ""
            },
            "type": "choropleth"
           }
          ],
          "contour": [
           {
            "colorbar": {
             "outlinewidth": 0,
             "ticks": ""
            },
            "colorscale": [
             [
              0,
              "#0d0887"
             ],
             [
              0.1111111111111111,
              "#46039f"
             ],
             [
              0.2222222222222222,
              "#7201a8"
             ],
             [
              0.3333333333333333,
              "#9c179e"
             ],
             [
              0.4444444444444444,
              "#bd3786"
             ],
             [
              0.5555555555555556,
              "#d8576b"
             ],
             [
              0.6666666666666666,
              "#ed7953"
             ],
             [
              0.7777777777777778,
              "#fb9f3a"
             ],
             [
              0.8888888888888888,
              "#fdca26"
             ],
             [
              1,
              "#f0f921"
             ]
            ],
            "type": "contour"
           }
          ],
          "contourcarpet": [
           {
            "colorbar": {
             "outlinewidth": 0,
             "ticks": ""
            },
            "type": "contourcarpet"
           }
          ],
          "heatmap": [
           {
            "colorbar": {
             "outlinewidth": 0,
             "ticks": ""
            },
            "colorscale": [
             [
              0,
              "#0d0887"
             ],
             [
              0.1111111111111111,
              "#46039f"
             ],
             [
              0.2222222222222222,
              "#7201a8"
             ],
             [
              0.3333333333333333,
              "#9c179e"
             ],
             [
              0.4444444444444444,
              "#bd3786"
             ],
             [
              0.5555555555555556,
              "#d8576b"
             ],
             [
              0.6666666666666666,
              "#ed7953"
             ],
             [
              0.7777777777777778,
              "#fb9f3a"
             ],
             [
              0.8888888888888888,
              "#fdca26"
             ],
             [
              1,
              "#f0f921"
             ]
            ],
            "type": "heatmap"
           }
          ],
          "heatmapgl": [
           {
            "colorbar": {
             "outlinewidth": 0,
             "ticks": ""
            },
            "colorscale": [
             [
              0,
              "#0d0887"
             ],
             [
              0.1111111111111111,
              "#46039f"
             ],
             [
              0.2222222222222222,
              "#7201a8"
             ],
             [
              0.3333333333333333,
              "#9c179e"
             ],
             [
              0.4444444444444444,
              "#bd3786"
             ],
             [
              0.5555555555555556,
              "#d8576b"
             ],
             [
              0.6666666666666666,
              "#ed7953"
             ],
             [
              0.7777777777777778,
              "#fb9f3a"
             ],
             [
              0.8888888888888888,
              "#fdca26"
             ],
             [
              1,
              "#f0f921"
             ]
            ],
            "type": "heatmapgl"
           }
          ],
          "histogram": [
           {
            "marker": {
             "pattern": {
              "fillmode": "overlay",
              "size": 10,
              "solidity": 0.2
             }
            },
            "type": "histogram"
           }
          ],
          "histogram2d": [
           {
            "colorbar": {
             "outlinewidth": 0,
             "ticks": ""
            },
            "colorscale": [
             [
              0,
              "#0d0887"
             ],
             [
              0.1111111111111111,
              "#46039f"
             ],
             [
              0.2222222222222222,
              "#7201a8"
             ],
             [
              0.3333333333333333,
              "#9c179e"
             ],
             [
              0.4444444444444444,
              "#bd3786"
             ],
             [
              0.5555555555555556,
              "#d8576b"
             ],
             [
              0.6666666666666666,
              "#ed7953"
             ],
             [
              0.7777777777777778,
              "#fb9f3a"
             ],
             [
              0.8888888888888888,
              "#fdca26"
             ],
             [
              1,
              "#f0f921"
             ]
            ],
            "type": "histogram2d"
           }
          ],
          "histogram2dcontour": [
           {
            "colorbar": {
             "outlinewidth": 0,
             "ticks": ""
            },
            "colorscale": [
             [
              0,
              "#0d0887"
             ],
             [
              0.1111111111111111,
              "#46039f"
             ],
             [
              0.2222222222222222,
              "#7201a8"
             ],
             [
              0.3333333333333333,
              "#9c179e"
             ],
             [
              0.4444444444444444,
              "#bd3786"
             ],
             [
              0.5555555555555556,
              "#d8576b"
             ],
             [
              0.6666666666666666,
              "#ed7953"
             ],
             [
              0.7777777777777778,
              "#fb9f3a"
             ],
             [
              0.8888888888888888,
              "#fdca26"
             ],
             [
              1,
              "#f0f921"
             ]
            ],
            "type": "histogram2dcontour"
           }
          ],
          "mesh3d": [
           {
            "colorbar": {
             "outlinewidth": 0,
             "ticks": ""
            },
            "type": "mesh3d"
           }
          ],
          "parcoords": [
           {
            "line": {
             "colorbar": {
              "outlinewidth": 0,
              "ticks": ""
             }
            },
            "type": "parcoords"
           }
          ],
          "pie": [
           {
            "automargin": true,
            "type": "pie"
           }
          ],
          "scatter": [
           {
            "fillpattern": {
             "fillmode": "overlay",
             "size": 10,
             "solidity": 0.2
            },
            "type": "scatter"
           }
          ],
          "scatter3d": [
           {
            "line": {
             "colorbar": {
              "outlinewidth": 0,
              "ticks": ""
             }
            },
            "marker": {
             "colorbar": {
              "outlinewidth": 0,
              "ticks": ""
             }
            },
            "type": "scatter3d"
           }
          ],
          "scattercarpet": [
           {
            "marker": {
             "colorbar": {
              "outlinewidth": 0,
              "ticks": ""
             }
            },
            "type": "scattercarpet"
           }
          ],
          "scattergeo": [
           {
            "marker": {
             "colorbar": {
              "outlinewidth": 0,
              "ticks": ""
             }
            },
            "type": "scattergeo"
           }
          ],
          "scattergl": [
           {
            "marker": {
             "colorbar": {
              "outlinewidth": 0,
              "ticks": ""
             }
            },
            "type": "scattergl"
           }
          ],
          "scattermapbox": [
           {
            "marker": {
             "colorbar": {
              "outlinewidth": 0,
              "ticks": ""
             }
            },
            "type": "scattermapbox"
           }
          ],
          "scatterpolar": [
           {
            "marker": {
             "colorbar": {
              "outlinewidth": 0,
              "ticks": ""
             }
            },
            "type": "scatterpolar"
           }
          ],
          "scatterpolargl": [
           {
            "marker": {
             "colorbar": {
              "outlinewidth": 0,
              "ticks": ""
             }
            },
            "type": "scatterpolargl"
           }
          ],
          "scatterternary": [
           {
            "marker": {
             "colorbar": {
              "outlinewidth": 0,
              "ticks": ""
             }
            },
            "type": "scatterternary"
           }
          ],
          "surface": [
           {
            "colorbar": {
             "outlinewidth": 0,
             "ticks": ""
            },
            "colorscale": [
             [
              0,
              "#0d0887"
             ],
             [
              0.1111111111111111,
              "#46039f"
             ],
             [
              0.2222222222222222,
              "#7201a8"
             ],
             [
              0.3333333333333333,
              "#9c179e"
             ],
             [
              0.4444444444444444,
              "#bd3786"
             ],
             [
              0.5555555555555556,
              "#d8576b"
             ],
             [
              0.6666666666666666,
              "#ed7953"
             ],
             [
              0.7777777777777778,
              "#fb9f3a"
             ],
             [
              0.8888888888888888,
              "#fdca26"
             ],
             [
              1,
              "#f0f921"
             ]
            ],
            "type": "surface"
           }
          ],
          "table": [
           {
            "cells": {
             "fill": {
              "color": "#EBF0F8"
             },
             "line": {
              "color": "white"
             }
            },
            "header": {
             "fill": {
              "color": "#C8D4E3"
             },
             "line": {
              "color": "white"
             }
            },
            "type": "table"
           }
          ]
         },
         "layout": {
          "annotationdefaults": {
           "arrowcolor": "#2a3f5f",
           "arrowhead": 0,
           "arrowwidth": 1
          },
          "autotypenumbers": "strict",
          "coloraxis": {
           "colorbar": {
            "outlinewidth": 0,
            "ticks": ""
           }
          },
          "colorscale": {
           "diverging": [
            [
             0,
             "#8e0152"
            ],
            [
             0.1,
             "#c51b7d"
            ],
            [
             0.2,
             "#de77ae"
            ],
            [
             0.3,
             "#f1b6da"
            ],
            [
             0.4,
             "#fde0ef"
            ],
            [
             0.5,
             "#f7f7f7"
            ],
            [
             0.6,
             "#e6f5d0"
            ],
            [
             0.7,
             "#b8e186"
            ],
            [
             0.8,
             "#7fbc41"
            ],
            [
             0.9,
             "#4d9221"
            ],
            [
             1,
             "#276419"
            ]
           ],
           "sequential": [
            [
             0,
             "#0d0887"
            ],
            [
             0.1111111111111111,
             "#46039f"
            ],
            [
             0.2222222222222222,
             "#7201a8"
            ],
            [
             0.3333333333333333,
             "#9c179e"
            ],
            [
             0.4444444444444444,
             "#bd3786"
            ],
            [
             0.5555555555555556,
             "#d8576b"
            ],
            [
             0.6666666666666666,
             "#ed7953"
            ],
            [
             0.7777777777777778,
             "#fb9f3a"
            ],
            [
             0.8888888888888888,
             "#fdca26"
            ],
            [
             1,
             "#f0f921"
            ]
           ],
           "sequentialminus": [
            [
             0,
             "#0d0887"
            ],
            [
             0.1111111111111111,
             "#46039f"
            ],
            [
             0.2222222222222222,
             "#7201a8"
            ],
            [
             0.3333333333333333,
             "#9c179e"
            ],
            [
             0.4444444444444444,
             "#bd3786"
            ],
            [
             0.5555555555555556,
             "#d8576b"
            ],
            [
             0.6666666666666666,
             "#ed7953"
            ],
            [
             0.7777777777777778,
             "#fb9f3a"
            ],
            [
             0.8888888888888888,
             "#fdca26"
            ],
            [
             1,
             "#f0f921"
            ]
           ]
          },
          "colorway": [
           "#636efa",
           "#EF553B",
           "#00cc96",
           "#ab63fa",
           "#FFA15A",
           "#19d3f3",
           "#FF6692",
           "#B6E880",
           "#FF97FF",
           "#FECB52"
          ],
          "font": {
           "color": "#2a3f5f"
          },
          "geo": {
           "bgcolor": "white",
           "lakecolor": "white",
           "landcolor": "#E5ECF6",
           "showlakes": true,
           "showland": true,
           "subunitcolor": "white"
          },
          "hoverlabel": {
           "align": "left"
          },
          "hovermode": "closest",
          "mapbox": {
           "style": "light"
          },
          "paper_bgcolor": "white",
          "plot_bgcolor": "#E5ECF6",
          "polar": {
           "angularaxis": {
            "gridcolor": "white",
            "linecolor": "white",
            "ticks": ""
           },
           "bgcolor": "#E5ECF6",
           "radialaxis": {
            "gridcolor": "white",
            "linecolor": "white",
            "ticks": ""
           }
          },
          "scene": {
           "xaxis": {
            "backgroundcolor": "#E5ECF6",
            "gridcolor": "white",
            "gridwidth": 2,
            "linecolor": "white",
            "showbackground": true,
            "ticks": "",
            "zerolinecolor": "white"
           },
           "yaxis": {
            "backgroundcolor": "#E5ECF6",
            "gridcolor": "white",
            "gridwidth": 2,
            "linecolor": "white",
            "showbackground": true,
            "ticks": "",
            "zerolinecolor": "white"
           },
           "zaxis": {
            "backgroundcolor": "#E5ECF6",
            "gridcolor": "white",
            "gridwidth": 2,
            "linecolor": "white",
            "showbackground": true,
            "ticks": "",
            "zerolinecolor": "white"
           }
          },
          "shapedefaults": {
           "line": {
            "color": "#2a3f5f"
           }
          },
          "ternary": {
           "aaxis": {
            "gridcolor": "white",
            "linecolor": "white",
            "ticks": ""
           },
           "baxis": {
            "gridcolor": "white",
            "linecolor": "white",
            "ticks": ""
           },
           "bgcolor": "#E5ECF6",
           "caxis": {
            "gridcolor": "white",
            "linecolor": "white",
            "ticks": ""
           }
          },
          "title": {
           "x": 0.05
          },
          "xaxis": {
           "automargin": true,
           "gridcolor": "white",
           "linecolor": "white",
           "ticks": "",
           "title": {
            "standoff": 15
           },
           "zerolinecolor": "white",
           "zerolinewidth": 2
          },
          "yaxis": {
           "automargin": true,
           "gridcolor": "white",
           "linecolor": "white",
           "ticks": "",
           "title": {
            "standoff": 15
           },
           "zerolinecolor": "white",
           "zerolinewidth": 2
          }
         }
        },
        "title": {
         "text": "Comparison of Average Rainfall for San Diego and Miami by Season"
        },
        "xaxis": {
         "anchor": "y",
         "domain": [
          0,
          1
         ],
         "title": {
          "text": "Season"
         }
        },
        "yaxis": {
         "anchor": "x",
         "domain": [
          0,
          1
         ],
         "title": {
          "text": "Average Rainfall"
         }
        }
       }
      }
     },
     "metadata": {},
     "output_type": "display_data"
    }
   ],
   "source": [
    "season_avg_comparison = SD_M_Climate.groupby(['city', 'season'])[['sunshine', 'rain']].mean().reset_index()\n",
    "\n",
    "# Plotting the box plot for 'sunshine' using Plotly\n",
    "fig_sunshine = px.scatter(season_avg_comparison, \n",
    "                      x='season', \n",
    "                      y='sunshine', \n",
    "                      color='city', \n",
    "                      title='Comparison of Average Hours of Sunshine for San Diego and Miami by Season',\n",
    "                      labels={'sunshine': 'Average Sunshine', 'season': 'Season', 'city': 'City'})\n",
    "fig_sunshine.show()\n",
    "\n",
    "# Plotting the box plot for 'rain' using Plotly\n",
    "fig_rain = px.scatter(season_avg_comparison, \n",
    "                  x='season', \n",
    "                  y='rain', \n",
    "                  color='city', \n",
    "                  title='Comparison of Average Rainfall for San Diego and Miami by Season',\n",
    "                  labels={'rain': 'Average Rainfall', 'season': 'Season', 'city': 'City'})\n",
    "fig_rain.show()"
   ]
  },
  {
   "cell_type": "markdown",
   "metadata": {},
   "source": [
    "Show how different the amount of rain each city gets for specific seasons"
   ]
  },
  {
   "cell_type": "markdown",
   "metadata": {},
   "source": [
    "scatter is better than box because it's on the same x-axis.\n",
    "box is harder to read\n",
    "bar doesnt work "
   ]
  },
  {
   "cell_type": "code",
   "execution_count": 12,
   "metadata": {},
   "outputs": [
    {
     "data": {
      "text/html": [
       "<div>\n",
       "<style scoped>\n",
       "    .dataframe tbody tr th:only-of-type {\n",
       "        vertical-align: middle;\n",
       "    }\n",
       "\n",
       "    .dataframe tbody tr th {\n",
       "        vertical-align: top;\n",
       "    }\n",
       "\n",
       "    .dataframe thead th {\n",
       "        text-align: right;\n",
       "    }\n",
       "</style>\n",
       "<table border=\"1\" class=\"dataframe\">\n",
       "  <thead>\n",
       "    <tr style=\"text-align: right;\">\n",
       "      <th></th>\n",
       "      <th>city</th>\n",
       "      <th>lat</th>\n",
       "      <th>lon</th>\n",
       "      <th>month</th>\n",
       "      <th>monthnum</th>\n",
       "      <th>sunshine</th>\n",
       "      <th>rain</th>\n",
       "      <th>season</th>\n",
       "    </tr>\n",
       "  </thead>\n",
       "  <tbody>\n",
       "    <tr>\n",
       "      <th>0</th>\n",
       "      <td>San Diego</td>\n",
       "      <td>32.715736</td>\n",
       "      <td>-117.161087</td>\n",
       "      <td>Jan</td>\n",
       "      <td>1</td>\n",
       "      <td>217</td>\n",
       "      <td>1.53</td>\n",
       "      <td>Winter</td>\n",
       "    </tr>\n",
       "    <tr>\n",
       "      <th>1</th>\n",
       "      <td>San Diego</td>\n",
       "      <td>32.715736</td>\n",
       "      <td>-117.161087</td>\n",
       "      <td>Feb</td>\n",
       "      <td>2</td>\n",
       "      <td>255</td>\n",
       "      <td>0.15</td>\n",
       "      <td>Winter</td>\n",
       "    </tr>\n",
       "    <tr>\n",
       "      <th>2</th>\n",
       "      <td>San Diego</td>\n",
       "      <td>32.715736</td>\n",
       "      <td>-117.161087</td>\n",
       "      <td>Mar</td>\n",
       "      <td>3</td>\n",
       "      <td>234</td>\n",
       "      <td>0.57</td>\n",
       "      <td>Spring</td>\n",
       "    </tr>\n",
       "    <tr>\n",
       "      <th>3</th>\n",
       "      <td>San Diego</td>\n",
       "      <td>32.715736</td>\n",
       "      <td>-117.161087</td>\n",
       "      <td>Apr</td>\n",
       "      <td>4</td>\n",
       "      <td>236</td>\n",
       "      <td>1.01</td>\n",
       "      <td>Spring</td>\n",
       "    </tr>\n",
       "    <tr>\n",
       "      <th>4</th>\n",
       "      <td>San Diego</td>\n",
       "      <td>32.715736</td>\n",
       "      <td>-117.161087</td>\n",
       "      <td>May</td>\n",
       "      <td>5</td>\n",
       "      <td>277</td>\n",
       "      <td>0.02</td>\n",
       "      <td>Spring</td>\n",
       "    </tr>\n",
       "    <tr>\n",
       "      <th>...</th>\n",
       "      <td>...</td>\n",
       "      <td>...</td>\n",
       "      <td>...</td>\n",
       "      <td>...</td>\n",
       "      <td>...</td>\n",
       "      <td>...</td>\n",
       "      <td>...</td>\n",
       "      <td>...</td>\n",
       "    </tr>\n",
       "    <tr>\n",
       "      <th>67</th>\n",
       "      <td>Miami</td>\n",
       "      <td>25.761681</td>\n",
       "      <td>-80.191788</td>\n",
       "      <td>Aug</td>\n",
       "      <td>8</td>\n",
       "      <td>263</td>\n",
       "      <td>8.88</td>\n",
       "      <td>Summer</td>\n",
       "    </tr>\n",
       "    <tr>\n",
       "      <th>68</th>\n",
       "      <td>Miami</td>\n",
       "      <td>25.761681</td>\n",
       "      <td>-80.191788</td>\n",
       "      <td>Sep</td>\n",
       "      <td>9</td>\n",
       "      <td>216</td>\n",
       "      <td>9.86</td>\n",
       "      <td>Fall</td>\n",
       "    </tr>\n",
       "    <tr>\n",
       "      <th>69</th>\n",
       "      <td>Miami</td>\n",
       "      <td>25.761681</td>\n",
       "      <td>-80.191788</td>\n",
       "      <td>Oct</td>\n",
       "      <td>10</td>\n",
       "      <td>215</td>\n",
       "      <td>6.33</td>\n",
       "      <td>Fall</td>\n",
       "    </tr>\n",
       "    <tr>\n",
       "      <th>70</th>\n",
       "      <td>Miami</td>\n",
       "      <td>25.761681</td>\n",
       "      <td>-80.191788</td>\n",
       "      <td>Nov</td>\n",
       "      <td>11</td>\n",
       "      <td>212</td>\n",
       "      <td>3.27</td>\n",
       "      <td>Fall</td>\n",
       "    </tr>\n",
       "    <tr>\n",
       "      <th>71</th>\n",
       "      <td>Miami</td>\n",
       "      <td>25.761681</td>\n",
       "      <td>-80.191788</td>\n",
       "      <td>Dec</td>\n",
       "      <td>12</td>\n",
       "      <td>209</td>\n",
       "      <td>2.04</td>\n",
       "      <td>Winter</td>\n",
       "    </tr>\n",
       "  </tbody>\n",
       "</table>\n",
       "<p>72 rows × 8 columns</p>\n",
       "</div>"
      ],
      "text/plain": [
       "         city        lat         lon month  monthnum  sunshine  rain  season\n",
       "0   San Diego  32.715736 -117.161087   Jan         1       217  1.53  Winter\n",
       "1   San Diego  32.715736 -117.161087   Feb         2       255  0.15  Winter\n",
       "2   San Diego  32.715736 -117.161087   Mar         3       234  0.57  Spring\n",
       "3   San Diego  32.715736 -117.161087   Apr         4       236  1.01  Spring\n",
       "4   San Diego  32.715736 -117.161087   May         5       277  0.02  Spring\n",
       "..        ...        ...         ...   ...       ...       ...   ...     ...\n",
       "67      Miami  25.761681  -80.191788   Aug         8       263  8.88  Summer\n",
       "68      Miami  25.761681  -80.191788   Sep         9       216  9.86    Fall\n",
       "69      Miami  25.761681  -80.191788   Oct        10       215  6.33    Fall\n",
       "70      Miami  25.761681  -80.191788   Nov        11       212  3.27    Fall\n",
       "71      Miami  25.761681  -80.191788   Dec        12       209  2.04  Winter\n",
       "\n",
       "[72 rows x 8 columns]"
      ]
     },
     "execution_count": 12,
     "metadata": {},
     "output_type": "execute_result"
    }
   ],
   "source": [
    "season_cities = climate.copy()\n",
    "season_cities['season'] = season_cities['monthnum'].apply(assign_season)\n",
    "season_cities"
   ]
  },
  {
   "cell_type": "code",
   "execution_count": 13,
   "metadata": {},
   "outputs": [
    {
     "data": {
      "text/html": [
       "<div>\n",
       "<style scoped>\n",
       "    .dataframe tbody tr th:only-of-type {\n",
       "        vertical-align: middle;\n",
       "    }\n",
       "\n",
       "    .dataframe tbody tr th {\n",
       "        vertical-align: top;\n",
       "    }\n",
       "\n",
       "    .dataframe thead th {\n",
       "        text-align: right;\n",
       "    }\n",
       "</style>\n",
       "<table border=\"1\" class=\"dataframe\">\n",
       "  <thead>\n",
       "    <tr style=\"text-align: right;\">\n",
       "      <th></th>\n",
       "      <th>city</th>\n",
       "      <th>season</th>\n",
       "      <th>rain</th>\n",
       "      <th>sunshine</th>\n",
       "    </tr>\n",
       "  </thead>\n",
       "  <tbody>\n",
       "    <tr>\n",
       "      <th>8</th>\n",
       "      <td>Miami</td>\n",
       "      <td>Fall</td>\n",
       "      <td>6.486667</td>\n",
       "      <td>214.333333</td>\n",
       "    </tr>\n",
       "    <tr>\n",
       "      <th>9</th>\n",
       "      <td>Miami</td>\n",
       "      <td>Spring</td>\n",
       "      <td>3.826667</td>\n",
       "      <td>273.666667</td>\n",
       "    </tr>\n",
       "    <tr>\n",
       "      <th>10</th>\n",
       "      <td>Miami</td>\n",
       "      <td>Summer</td>\n",
       "      <td>8.350000</td>\n",
       "      <td>260.333333</td>\n",
       "    </tr>\n",
       "    <tr>\n",
       "      <th>11</th>\n",
       "      <td>Miami</td>\n",
       "      <td>Winter</td>\n",
       "      <td>1.970000</td>\n",
       "      <td>219.333333</td>\n",
       "    </tr>\n",
       "    <tr>\n",
       "      <th>12</th>\n",
       "      <td>New York City</td>\n",
       "      <td>Fall</td>\n",
       "      <td>3.730000</td>\n",
       "      <td>205.666667</td>\n",
       "    </tr>\n",
       "    <tr>\n",
       "      <th>13</th>\n",
       "      <td>New York City</td>\n",
       "      <td>Spring</td>\n",
       "      <td>4.150000</td>\n",
       "      <td>239.333333</td>\n",
       "    </tr>\n",
       "    <tr>\n",
       "      <th>14</th>\n",
       "      <td>New York City</td>\n",
       "      <td>Summer</td>\n",
       "      <td>4.053333</td>\n",
       "      <td>287.333333</td>\n",
       "    </tr>\n",
       "    <tr>\n",
       "      <th>15</th>\n",
       "      <td>New York City</td>\n",
       "      <td>Winter</td>\n",
       "      <td>3.476667</td>\n",
       "      <td>160.000000</td>\n",
       "    </tr>\n",
       "    <tr>\n",
       "      <th>16</th>\n",
       "      <td>San Diego</td>\n",
       "      <td>Fall</td>\n",
       "      <td>1.620000</td>\n",
       "      <td>238.666667</td>\n",
       "    </tr>\n",
       "    <tr>\n",
       "      <th>17</th>\n",
       "      <td>San Diego</td>\n",
       "      <td>Spring</td>\n",
       "      <td>0.533333</td>\n",
       "      <td>249.000000</td>\n",
       "    </tr>\n",
       "    <tr>\n",
       "      <th>18</th>\n",
       "      <td>San Diego</td>\n",
       "      <td>Summer</td>\n",
       "      <td>0.073333</td>\n",
       "      <td>269.000000</td>\n",
       "    </tr>\n",
       "    <tr>\n",
       "      <th>19</th>\n",
       "      <td>San Diego</td>\n",
       "      <td>Winter</td>\n",
       "      <td>1.220000</td>\n",
       "      <td>229.333333</td>\n",
       "    </tr>\n",
       "    <tr>\n",
       "      <th>20</th>\n",
       "      <td>San Francisco</td>\n",
       "      <td>Fall</td>\n",
       "      <td>1.496667</td>\n",
       "      <td>233.000000</td>\n",
       "    </tr>\n",
       "    <tr>\n",
       "      <th>21</th>\n",
       "      <td>San Francisco</td>\n",
       "      <td>Spring</td>\n",
       "      <td>1.806667</td>\n",
       "      <td>282.000000</td>\n",
       "    </tr>\n",
       "    <tr>\n",
       "      <th>22</th>\n",
       "      <td>San Francisco</td>\n",
       "      <td>Summer</td>\n",
       "      <td>3.006667</td>\n",
       "      <td>206.333333</td>\n",
       "    </tr>\n",
       "    <tr>\n",
       "      <th>23</th>\n",
       "      <td>San Francisco</td>\n",
       "      <td>Winter</td>\n",
       "      <td>1.576667</td>\n",
       "      <td>262.000000</td>\n",
       "    </tr>\n",
       "  </tbody>\n",
       "</table>\n",
       "</div>"
      ],
      "text/plain": [
       "             city  season      rain    sunshine\n",
       "8           Miami    Fall  6.486667  214.333333\n",
       "9           Miami  Spring  3.826667  273.666667\n",
       "10          Miami  Summer  8.350000  260.333333\n",
       "11          Miami  Winter  1.970000  219.333333\n",
       "12  New York City    Fall  3.730000  205.666667\n",
       "13  New York City  Spring  4.150000  239.333333\n",
       "14  New York City  Summer  4.053333  287.333333\n",
       "15  New York City  Winter  3.476667  160.000000\n",
       "16      San Diego    Fall  1.620000  238.666667\n",
       "17      San Diego  Spring  0.533333  249.000000\n",
       "18      San Diego  Summer  0.073333  269.000000\n",
       "19      San Diego  Winter  1.220000  229.333333\n",
       "20  San Francisco    Fall  1.496667  233.000000\n",
       "21  San Francisco  Spring  1.806667  282.000000\n",
       "22  San Francisco  Summer  3.006667  206.333333\n",
       "23  San Francisco  Winter  1.576667  262.000000"
      ]
     },
     "execution_count": 13,
     "metadata": {},
     "output_type": "execute_result"
    }
   ],
   "source": [
    "season_avg_comparison = season_cities.groupby(['city', 'season'])[['rain','sunshine']].mean().reset_index()\n",
    "season_avg_comparison\n",
    "\n",
    "coasts = season_avg_comparison[(season_avg_comparison['city'] != 'Chicago') & (season_avg_comparison['city'] != 'Houston')]\n",
    "coasts"
   ]
  },
  {
   "cell_type": "code",
   "execution_count": 14,
   "metadata": {},
   "outputs": [
    {
     "data": {
      "application/vnd.plotly.v1+json": {
       "config": {
        "plotlyServerURL": "https://plot.ly"
       },
       "data": [
        {
         "alignmentgroup": "True",
         "hovertemplate": "city=Miami<br>season=%{x}<br>sunshine=%{y}<extra></extra>",
         "legendgroup": "Miami",
         "marker": {
          "color": "#636efa",
          "pattern": {
           "shape": ""
          }
         },
         "name": "Miami",
         "offsetgroup": "Miami",
         "orientation": "v",
         "showlegend": true,
         "textposition": "auto",
         "type": "bar",
         "x": [
          "Fall",
          "Spring",
          "Summer",
          "Winter"
         ],
         "xaxis": "x",
         "y": [
          214.33333333333334,
          273.6666666666667,
          260.3333333333333,
          219.33333333333334
         ],
         "yaxis": "y"
        },
        {
         "alignmentgroup": "True",
         "hovertemplate": "city=New York City<br>season=%{x}<br>sunshine=%{y}<extra></extra>",
         "legendgroup": "New York City",
         "marker": {
          "color": "#EF553B",
          "pattern": {
           "shape": ""
          }
         },
         "name": "New York City",
         "offsetgroup": "New York City",
         "orientation": "v",
         "showlegend": true,
         "textposition": "auto",
         "type": "bar",
         "x": [
          "Fall",
          "Spring",
          "Summer",
          "Winter"
         ],
         "xaxis": "x",
         "y": [
          205.66666666666666,
          239.33333333333334,
          287.3333333333333,
          160
         ],
         "yaxis": "y"
        },
        {
         "alignmentgroup": "True",
         "hovertemplate": "city=San Diego<br>season=%{x}<br>sunshine=%{y}<extra></extra>",
         "legendgroup": "San Diego",
         "marker": {
          "color": "#00cc96",
          "pattern": {
           "shape": ""
          }
         },
         "name": "San Diego",
         "offsetgroup": "San Diego",
         "orientation": "v",
         "showlegend": true,
         "textposition": "auto",
         "type": "bar",
         "x": [
          "Fall",
          "Spring",
          "Summer",
          "Winter"
         ],
         "xaxis": "x",
         "y": [
          238.66666666666666,
          249,
          269,
          229.33333333333334
         ],
         "yaxis": "y"
        },
        {
         "alignmentgroup": "True",
         "hovertemplate": "city=San Francisco<br>season=%{x}<br>sunshine=%{y}<extra></extra>",
         "legendgroup": "San Francisco",
         "marker": {
          "color": "#ab63fa",
          "pattern": {
           "shape": ""
          }
         },
         "name": "San Francisco",
         "offsetgroup": "San Francisco",
         "orientation": "v",
         "showlegend": true,
         "textposition": "auto",
         "type": "bar",
         "x": [
          "Fall",
          "Spring",
          "Summer",
          "Winter"
         ],
         "xaxis": "x",
         "y": [
          233,
          282,
          206.33333333333334,
          262
         ],
         "yaxis": "y"
        }
       ],
       "layout": {
        "barmode": "relative",
        "legend": {
         "title": {
          "text": "city"
         },
         "tracegroupgap": 0
        },
        "margin": {
         "t": 60
        },
        "template": {
         "data": {
          "bar": [
           {
            "error_x": {
             "color": "#2a3f5f"
            },
            "error_y": {
             "color": "#2a3f5f"
            },
            "marker": {
             "line": {
              "color": "#E5ECF6",
              "width": 0.5
             },
             "pattern": {
              "fillmode": "overlay",
              "size": 10,
              "solidity": 0.2
             }
            },
            "type": "bar"
           }
          ],
          "barpolar": [
           {
            "marker": {
             "line": {
              "color": "#E5ECF6",
              "width": 0.5
             },
             "pattern": {
              "fillmode": "overlay",
              "size": 10,
              "solidity": 0.2
             }
            },
            "type": "barpolar"
           }
          ],
          "carpet": [
           {
            "aaxis": {
             "endlinecolor": "#2a3f5f",
             "gridcolor": "white",
             "linecolor": "white",
             "minorgridcolor": "white",
             "startlinecolor": "#2a3f5f"
            },
            "baxis": {
             "endlinecolor": "#2a3f5f",
             "gridcolor": "white",
             "linecolor": "white",
             "minorgridcolor": "white",
             "startlinecolor": "#2a3f5f"
            },
            "type": "carpet"
           }
          ],
          "choropleth": [
           {
            "colorbar": {
             "outlinewidth": 0,
             "ticks": ""
            },
            "type": "choropleth"
           }
          ],
          "contour": [
           {
            "colorbar": {
             "outlinewidth": 0,
             "ticks": ""
            },
            "colorscale": [
             [
              0,
              "#0d0887"
             ],
             [
              0.1111111111111111,
              "#46039f"
             ],
             [
              0.2222222222222222,
              "#7201a8"
             ],
             [
              0.3333333333333333,
              "#9c179e"
             ],
             [
              0.4444444444444444,
              "#bd3786"
             ],
             [
              0.5555555555555556,
              "#d8576b"
             ],
             [
              0.6666666666666666,
              "#ed7953"
             ],
             [
              0.7777777777777778,
              "#fb9f3a"
             ],
             [
              0.8888888888888888,
              "#fdca26"
             ],
             [
              1,
              "#f0f921"
             ]
            ],
            "type": "contour"
           }
          ],
          "contourcarpet": [
           {
            "colorbar": {
             "outlinewidth": 0,
             "ticks": ""
            },
            "type": "contourcarpet"
           }
          ],
          "heatmap": [
           {
            "colorbar": {
             "outlinewidth": 0,
             "ticks": ""
            },
            "colorscale": [
             [
              0,
              "#0d0887"
             ],
             [
              0.1111111111111111,
              "#46039f"
             ],
             [
              0.2222222222222222,
              "#7201a8"
             ],
             [
              0.3333333333333333,
              "#9c179e"
             ],
             [
              0.4444444444444444,
              "#bd3786"
             ],
             [
              0.5555555555555556,
              "#d8576b"
             ],
             [
              0.6666666666666666,
              "#ed7953"
             ],
             [
              0.7777777777777778,
              "#fb9f3a"
             ],
             [
              0.8888888888888888,
              "#fdca26"
             ],
             [
              1,
              "#f0f921"
             ]
            ],
            "type": "heatmap"
           }
          ],
          "heatmapgl": [
           {
            "colorbar": {
             "outlinewidth": 0,
             "ticks": ""
            },
            "colorscale": [
             [
              0,
              "#0d0887"
             ],
             [
              0.1111111111111111,
              "#46039f"
             ],
             [
              0.2222222222222222,
              "#7201a8"
             ],
             [
              0.3333333333333333,
              "#9c179e"
             ],
             [
              0.4444444444444444,
              "#bd3786"
             ],
             [
              0.5555555555555556,
              "#d8576b"
             ],
             [
              0.6666666666666666,
              "#ed7953"
             ],
             [
              0.7777777777777778,
              "#fb9f3a"
             ],
             [
              0.8888888888888888,
              "#fdca26"
             ],
             [
              1,
              "#f0f921"
             ]
            ],
            "type": "heatmapgl"
           }
          ],
          "histogram": [
           {
            "marker": {
             "pattern": {
              "fillmode": "overlay",
              "size": 10,
              "solidity": 0.2
             }
            },
            "type": "histogram"
           }
          ],
          "histogram2d": [
           {
            "colorbar": {
             "outlinewidth": 0,
             "ticks": ""
            },
            "colorscale": [
             [
              0,
              "#0d0887"
             ],
             [
              0.1111111111111111,
              "#46039f"
             ],
             [
              0.2222222222222222,
              "#7201a8"
             ],
             [
              0.3333333333333333,
              "#9c179e"
             ],
             [
              0.4444444444444444,
              "#bd3786"
             ],
             [
              0.5555555555555556,
              "#d8576b"
             ],
             [
              0.6666666666666666,
              "#ed7953"
             ],
             [
              0.7777777777777778,
              "#fb9f3a"
             ],
             [
              0.8888888888888888,
              "#fdca26"
             ],
             [
              1,
              "#f0f921"
             ]
            ],
            "type": "histogram2d"
           }
          ],
          "histogram2dcontour": [
           {
            "colorbar": {
             "outlinewidth": 0,
             "ticks": ""
            },
            "colorscale": [
             [
              0,
              "#0d0887"
             ],
             [
              0.1111111111111111,
              "#46039f"
             ],
             [
              0.2222222222222222,
              "#7201a8"
             ],
             [
              0.3333333333333333,
              "#9c179e"
             ],
             [
              0.4444444444444444,
              "#bd3786"
             ],
             [
              0.5555555555555556,
              "#d8576b"
             ],
             [
              0.6666666666666666,
              "#ed7953"
             ],
             [
              0.7777777777777778,
              "#fb9f3a"
             ],
             [
              0.8888888888888888,
              "#fdca26"
             ],
             [
              1,
              "#f0f921"
             ]
            ],
            "type": "histogram2dcontour"
           }
          ],
          "mesh3d": [
           {
            "colorbar": {
             "outlinewidth": 0,
             "ticks": ""
            },
            "type": "mesh3d"
           }
          ],
          "parcoords": [
           {
            "line": {
             "colorbar": {
              "outlinewidth": 0,
              "ticks": ""
             }
            },
            "type": "parcoords"
           }
          ],
          "pie": [
           {
            "automargin": true,
            "type": "pie"
           }
          ],
          "scatter": [
           {
            "fillpattern": {
             "fillmode": "overlay",
             "size": 10,
             "solidity": 0.2
            },
            "type": "scatter"
           }
          ],
          "scatter3d": [
           {
            "line": {
             "colorbar": {
              "outlinewidth": 0,
              "ticks": ""
             }
            },
            "marker": {
             "colorbar": {
              "outlinewidth": 0,
              "ticks": ""
             }
            },
            "type": "scatter3d"
           }
          ],
          "scattercarpet": [
           {
            "marker": {
             "colorbar": {
              "outlinewidth": 0,
              "ticks": ""
             }
            },
            "type": "scattercarpet"
           }
          ],
          "scattergeo": [
           {
            "marker": {
             "colorbar": {
              "outlinewidth": 0,
              "ticks": ""
             }
            },
            "type": "scattergeo"
           }
          ],
          "scattergl": [
           {
            "marker": {
             "colorbar": {
              "outlinewidth": 0,
              "ticks": ""
             }
            },
            "type": "scattergl"
           }
          ],
          "scattermapbox": [
           {
            "marker": {
             "colorbar": {
              "outlinewidth": 0,
              "ticks": ""
             }
            },
            "type": "scattermapbox"
           }
          ],
          "scatterpolar": [
           {
            "marker": {
             "colorbar": {
              "outlinewidth": 0,
              "ticks": ""
             }
            },
            "type": "scatterpolar"
           }
          ],
          "scatterpolargl": [
           {
            "marker": {
             "colorbar": {
              "outlinewidth": 0,
              "ticks": ""
             }
            },
            "type": "scatterpolargl"
           }
          ],
          "scatterternary": [
           {
            "marker": {
             "colorbar": {
              "outlinewidth": 0,
              "ticks": ""
             }
            },
            "type": "scatterternary"
           }
          ],
          "surface": [
           {
            "colorbar": {
             "outlinewidth": 0,
             "ticks": ""
            },
            "colorscale": [
             [
              0,
              "#0d0887"
             ],
             [
              0.1111111111111111,
              "#46039f"
             ],
             [
              0.2222222222222222,
              "#7201a8"
             ],
             [
              0.3333333333333333,
              "#9c179e"
             ],
             [
              0.4444444444444444,
              "#bd3786"
             ],
             [
              0.5555555555555556,
              "#d8576b"
             ],
             [
              0.6666666666666666,
              "#ed7953"
             ],
             [
              0.7777777777777778,
              "#fb9f3a"
             ],
             [
              0.8888888888888888,
              "#fdca26"
             ],
             [
              1,
              "#f0f921"
             ]
            ],
            "type": "surface"
           }
          ],
          "table": [
           {
            "cells": {
             "fill": {
              "color": "#EBF0F8"
             },
             "line": {
              "color": "white"
             }
            },
            "header": {
             "fill": {
              "color": "#C8D4E3"
             },
             "line": {
              "color": "white"
             }
            },
            "type": "table"
           }
          ]
         },
         "layout": {
          "annotationdefaults": {
           "arrowcolor": "#2a3f5f",
           "arrowhead": 0,
           "arrowwidth": 1
          },
          "autotypenumbers": "strict",
          "coloraxis": {
           "colorbar": {
            "outlinewidth": 0,
            "ticks": ""
           }
          },
          "colorscale": {
           "diverging": [
            [
             0,
             "#8e0152"
            ],
            [
             0.1,
             "#c51b7d"
            ],
            [
             0.2,
             "#de77ae"
            ],
            [
             0.3,
             "#f1b6da"
            ],
            [
             0.4,
             "#fde0ef"
            ],
            [
             0.5,
             "#f7f7f7"
            ],
            [
             0.6,
             "#e6f5d0"
            ],
            [
             0.7,
             "#b8e186"
            ],
            [
             0.8,
             "#7fbc41"
            ],
            [
             0.9,
             "#4d9221"
            ],
            [
             1,
             "#276419"
            ]
           ],
           "sequential": [
            [
             0,
             "#0d0887"
            ],
            [
             0.1111111111111111,
             "#46039f"
            ],
            [
             0.2222222222222222,
             "#7201a8"
            ],
            [
             0.3333333333333333,
             "#9c179e"
            ],
            [
             0.4444444444444444,
             "#bd3786"
            ],
            [
             0.5555555555555556,
             "#d8576b"
            ],
            [
             0.6666666666666666,
             "#ed7953"
            ],
            [
             0.7777777777777778,
             "#fb9f3a"
            ],
            [
             0.8888888888888888,
             "#fdca26"
            ],
            [
             1,
             "#f0f921"
            ]
           ],
           "sequentialminus": [
            [
             0,
             "#0d0887"
            ],
            [
             0.1111111111111111,
             "#46039f"
            ],
            [
             0.2222222222222222,
             "#7201a8"
            ],
            [
             0.3333333333333333,
             "#9c179e"
            ],
            [
             0.4444444444444444,
             "#bd3786"
            ],
            [
             0.5555555555555556,
             "#d8576b"
            ],
            [
             0.6666666666666666,
             "#ed7953"
            ],
            [
             0.7777777777777778,
             "#fb9f3a"
            ],
            [
             0.8888888888888888,
             "#fdca26"
            ],
            [
             1,
             "#f0f921"
            ]
           ]
          },
          "colorway": [
           "#636efa",
           "#EF553B",
           "#00cc96",
           "#ab63fa",
           "#FFA15A",
           "#19d3f3",
           "#FF6692",
           "#B6E880",
           "#FF97FF",
           "#FECB52"
          ],
          "font": {
           "color": "#2a3f5f"
          },
          "geo": {
           "bgcolor": "white",
           "lakecolor": "white",
           "landcolor": "#E5ECF6",
           "showlakes": true,
           "showland": true,
           "subunitcolor": "white"
          },
          "hoverlabel": {
           "align": "left"
          },
          "hovermode": "closest",
          "mapbox": {
           "style": "light"
          },
          "paper_bgcolor": "white",
          "plot_bgcolor": "#E5ECF6",
          "polar": {
           "angularaxis": {
            "gridcolor": "white",
            "linecolor": "white",
            "ticks": ""
           },
           "bgcolor": "#E5ECF6",
           "radialaxis": {
            "gridcolor": "white",
            "linecolor": "white",
            "ticks": ""
           }
          },
          "scene": {
           "xaxis": {
            "backgroundcolor": "#E5ECF6",
            "gridcolor": "white",
            "gridwidth": 2,
            "linecolor": "white",
            "showbackground": true,
            "ticks": "",
            "zerolinecolor": "white"
           },
           "yaxis": {
            "backgroundcolor": "#E5ECF6",
            "gridcolor": "white",
            "gridwidth": 2,
            "linecolor": "white",
            "showbackground": true,
            "ticks": "",
            "zerolinecolor": "white"
           },
           "zaxis": {
            "backgroundcolor": "#E5ECF6",
            "gridcolor": "white",
            "gridwidth": 2,
            "linecolor": "white",
            "showbackground": true,
            "ticks": "",
            "zerolinecolor": "white"
           }
          },
          "shapedefaults": {
           "line": {
            "color": "#2a3f5f"
           }
          },
          "ternary": {
           "aaxis": {
            "gridcolor": "white",
            "linecolor": "white",
            "ticks": ""
           },
           "baxis": {
            "gridcolor": "white",
            "linecolor": "white",
            "ticks": ""
           },
           "bgcolor": "#E5ECF6",
           "caxis": {
            "gridcolor": "white",
            "linecolor": "white",
            "ticks": ""
           }
          },
          "title": {
           "x": 0.05
          },
          "xaxis": {
           "automargin": true,
           "gridcolor": "white",
           "linecolor": "white",
           "ticks": "",
           "title": {
            "standoff": 15
           },
           "zerolinecolor": "white",
           "zerolinewidth": 2
          },
          "yaxis": {
           "automargin": true,
           "gridcolor": "white",
           "linecolor": "white",
           "ticks": "",
           "title": {
            "standoff": 15
           },
           "zerolinecolor": "white",
           "zerolinewidth": 2
          }
         }
        },
        "xaxis": {
         "anchor": "y",
         "domain": [
          0,
          1
         ],
         "title": {
          "text": "season"
         }
        },
        "yaxis": {
         "anchor": "x",
         "domain": [
          0,
          1
         ],
         "title": {
          "text": "sunshine"
         }
        }
       }
      }
     },
     "metadata": {},
     "output_type": "display_data"
    },
    {
     "data": {
      "application/vnd.plotly.v1+json": {
       "config": {
        "plotlyServerURL": "https://plot.ly"
       },
       "data": [
        {
         "alignmentgroup": "True",
         "hovertemplate": "city=Miami<br>season=%{x}<br>rain=%{y}<extra></extra>",
         "legendgroup": "Miami",
         "marker": {
          "color": "#636efa",
          "pattern": {
           "shape": ""
          }
         },
         "name": "Miami",
         "offsetgroup": "Miami",
         "orientation": "v",
         "showlegend": true,
         "textposition": "auto",
         "type": "bar",
         "x": [
          "Fall",
          "Spring",
          "Summer",
          "Winter"
         ],
         "xaxis": "x",
         "y": [
          6.486666666666667,
          3.8266666666666667,
          8.35,
          1.97
         ],
         "yaxis": "y"
        },
        {
         "alignmentgroup": "True",
         "hovertemplate": "city=New York City<br>season=%{x}<br>rain=%{y}<extra></extra>",
         "legendgroup": "New York City",
         "marker": {
          "color": "#EF553B",
          "pattern": {
           "shape": ""
          }
         },
         "name": "New York City",
         "offsetgroup": "New York City",
         "orientation": "v",
         "showlegend": true,
         "textposition": "auto",
         "type": "bar",
         "x": [
          "Fall",
          "Spring",
          "Summer",
          "Winter"
         ],
         "xaxis": "x",
         "y": [
          3.73,
          4.1499999999999995,
          4.053333333333334,
          3.4766666666666666
         ],
         "yaxis": "y"
        },
        {
         "alignmentgroup": "True",
         "hovertemplate": "city=San Diego<br>season=%{x}<br>rain=%{y}<extra></extra>",
         "legendgroup": "San Diego",
         "marker": {
          "color": "#00cc96",
          "pattern": {
           "shape": ""
          }
         },
         "name": "San Diego",
         "offsetgroup": "San Diego",
         "orientation": "v",
         "showlegend": true,
         "textposition": "auto",
         "type": "bar",
         "x": [
          "Fall",
          "Spring",
          "Summer",
          "Winter"
         ],
         "xaxis": "x",
         "y": [
          1.62,
          0.5333333333333333,
          0.07333333333333333,
          1.22
         ],
         "yaxis": "y"
        },
        {
         "alignmentgroup": "True",
         "hovertemplate": "city=San Francisco<br>season=%{x}<br>rain=%{y}<extra></extra>",
         "legendgroup": "San Francisco",
         "marker": {
          "color": "#ab63fa",
          "pattern": {
           "shape": ""
          }
         },
         "name": "San Francisco",
         "offsetgroup": "San Francisco",
         "orientation": "v",
         "showlegend": true,
         "textposition": "auto",
         "type": "bar",
         "x": [
          "Fall",
          "Spring",
          "Summer",
          "Winter"
         ],
         "xaxis": "x",
         "y": [
          1.4966666666666668,
          1.8066666666666666,
          3.0066666666666664,
          1.5766666666666664
         ],
         "yaxis": "y"
        }
       ],
       "layout": {
        "barmode": "relative",
        "legend": {
         "title": {
          "text": "city"
         },
         "tracegroupgap": 0
        },
        "margin": {
         "t": 60
        },
        "template": {
         "data": {
          "bar": [
           {
            "error_x": {
             "color": "#2a3f5f"
            },
            "error_y": {
             "color": "#2a3f5f"
            },
            "marker": {
             "line": {
              "color": "#E5ECF6",
              "width": 0.5
             },
             "pattern": {
              "fillmode": "overlay",
              "size": 10,
              "solidity": 0.2
             }
            },
            "type": "bar"
           }
          ],
          "barpolar": [
           {
            "marker": {
             "line": {
              "color": "#E5ECF6",
              "width": 0.5
             },
             "pattern": {
              "fillmode": "overlay",
              "size": 10,
              "solidity": 0.2
             }
            },
            "type": "barpolar"
           }
          ],
          "carpet": [
           {
            "aaxis": {
             "endlinecolor": "#2a3f5f",
             "gridcolor": "white",
             "linecolor": "white",
             "minorgridcolor": "white",
             "startlinecolor": "#2a3f5f"
            },
            "baxis": {
             "endlinecolor": "#2a3f5f",
             "gridcolor": "white",
             "linecolor": "white",
             "minorgridcolor": "white",
             "startlinecolor": "#2a3f5f"
            },
            "type": "carpet"
           }
          ],
          "choropleth": [
           {
            "colorbar": {
             "outlinewidth": 0,
             "ticks": ""
            },
            "type": "choropleth"
           }
          ],
          "contour": [
           {
            "colorbar": {
             "outlinewidth": 0,
             "ticks": ""
            },
            "colorscale": [
             [
              0,
              "#0d0887"
             ],
             [
              0.1111111111111111,
              "#46039f"
             ],
             [
              0.2222222222222222,
              "#7201a8"
             ],
             [
              0.3333333333333333,
              "#9c179e"
             ],
             [
              0.4444444444444444,
              "#bd3786"
             ],
             [
              0.5555555555555556,
              "#d8576b"
             ],
             [
              0.6666666666666666,
              "#ed7953"
             ],
             [
              0.7777777777777778,
              "#fb9f3a"
             ],
             [
              0.8888888888888888,
              "#fdca26"
             ],
             [
              1,
              "#f0f921"
             ]
            ],
            "type": "contour"
           }
          ],
          "contourcarpet": [
           {
            "colorbar": {
             "outlinewidth": 0,
             "ticks": ""
            },
            "type": "contourcarpet"
           }
          ],
          "heatmap": [
           {
            "colorbar": {
             "outlinewidth": 0,
             "ticks": ""
            },
            "colorscale": [
             [
              0,
              "#0d0887"
             ],
             [
              0.1111111111111111,
              "#46039f"
             ],
             [
              0.2222222222222222,
              "#7201a8"
             ],
             [
              0.3333333333333333,
              "#9c179e"
             ],
             [
              0.4444444444444444,
              "#bd3786"
             ],
             [
              0.5555555555555556,
              "#d8576b"
             ],
             [
              0.6666666666666666,
              "#ed7953"
             ],
             [
              0.7777777777777778,
              "#fb9f3a"
             ],
             [
              0.8888888888888888,
              "#fdca26"
             ],
             [
              1,
              "#f0f921"
             ]
            ],
            "type": "heatmap"
           }
          ],
          "heatmapgl": [
           {
            "colorbar": {
             "outlinewidth": 0,
             "ticks": ""
            },
            "colorscale": [
             [
              0,
              "#0d0887"
             ],
             [
              0.1111111111111111,
              "#46039f"
             ],
             [
              0.2222222222222222,
              "#7201a8"
             ],
             [
              0.3333333333333333,
              "#9c179e"
             ],
             [
              0.4444444444444444,
              "#bd3786"
             ],
             [
              0.5555555555555556,
              "#d8576b"
             ],
             [
              0.6666666666666666,
              "#ed7953"
             ],
             [
              0.7777777777777778,
              "#fb9f3a"
             ],
             [
              0.8888888888888888,
              "#fdca26"
             ],
             [
              1,
              "#f0f921"
             ]
            ],
            "type": "heatmapgl"
           }
          ],
          "histogram": [
           {
            "marker": {
             "pattern": {
              "fillmode": "overlay",
              "size": 10,
              "solidity": 0.2
             }
            },
            "type": "histogram"
           }
          ],
          "histogram2d": [
           {
            "colorbar": {
             "outlinewidth": 0,
             "ticks": ""
            },
            "colorscale": [
             [
              0,
              "#0d0887"
             ],
             [
              0.1111111111111111,
              "#46039f"
             ],
             [
              0.2222222222222222,
              "#7201a8"
             ],
             [
              0.3333333333333333,
              "#9c179e"
             ],
             [
              0.4444444444444444,
              "#bd3786"
             ],
             [
              0.5555555555555556,
              "#d8576b"
             ],
             [
              0.6666666666666666,
              "#ed7953"
             ],
             [
              0.7777777777777778,
              "#fb9f3a"
             ],
             [
              0.8888888888888888,
              "#fdca26"
             ],
             [
              1,
              "#f0f921"
             ]
            ],
            "type": "histogram2d"
           }
          ],
          "histogram2dcontour": [
           {
            "colorbar": {
             "outlinewidth": 0,
             "ticks": ""
            },
            "colorscale": [
             [
              0,
              "#0d0887"
             ],
             [
              0.1111111111111111,
              "#46039f"
             ],
             [
              0.2222222222222222,
              "#7201a8"
             ],
             [
              0.3333333333333333,
              "#9c179e"
             ],
             [
              0.4444444444444444,
              "#bd3786"
             ],
             [
              0.5555555555555556,
              "#d8576b"
             ],
             [
              0.6666666666666666,
              "#ed7953"
             ],
             [
              0.7777777777777778,
              "#fb9f3a"
             ],
             [
              0.8888888888888888,
              "#fdca26"
             ],
             [
              1,
              "#f0f921"
             ]
            ],
            "type": "histogram2dcontour"
           }
          ],
          "mesh3d": [
           {
            "colorbar": {
             "outlinewidth": 0,
             "ticks": ""
            },
            "type": "mesh3d"
           }
          ],
          "parcoords": [
           {
            "line": {
             "colorbar": {
              "outlinewidth": 0,
              "ticks": ""
             }
            },
            "type": "parcoords"
           }
          ],
          "pie": [
           {
            "automargin": true,
            "type": "pie"
           }
          ],
          "scatter": [
           {
            "fillpattern": {
             "fillmode": "overlay",
             "size": 10,
             "solidity": 0.2
            },
            "type": "scatter"
           }
          ],
          "scatter3d": [
           {
            "line": {
             "colorbar": {
              "outlinewidth": 0,
              "ticks": ""
             }
            },
            "marker": {
             "colorbar": {
              "outlinewidth": 0,
              "ticks": ""
             }
            },
            "type": "scatter3d"
           }
          ],
          "scattercarpet": [
           {
            "marker": {
             "colorbar": {
              "outlinewidth": 0,
              "ticks": ""
             }
            },
            "type": "scattercarpet"
           }
          ],
          "scattergeo": [
           {
            "marker": {
             "colorbar": {
              "outlinewidth": 0,
              "ticks": ""
             }
            },
            "type": "scattergeo"
           }
          ],
          "scattergl": [
           {
            "marker": {
             "colorbar": {
              "outlinewidth": 0,
              "ticks": ""
             }
            },
            "type": "scattergl"
           }
          ],
          "scattermapbox": [
           {
            "marker": {
             "colorbar": {
              "outlinewidth": 0,
              "ticks": ""
             }
            },
            "type": "scattermapbox"
           }
          ],
          "scatterpolar": [
           {
            "marker": {
             "colorbar": {
              "outlinewidth": 0,
              "ticks": ""
             }
            },
            "type": "scatterpolar"
           }
          ],
          "scatterpolargl": [
           {
            "marker": {
             "colorbar": {
              "outlinewidth": 0,
              "ticks": ""
             }
            },
            "type": "scatterpolargl"
           }
          ],
          "scatterternary": [
           {
            "marker": {
             "colorbar": {
              "outlinewidth": 0,
              "ticks": ""
             }
            },
            "type": "scatterternary"
           }
          ],
          "surface": [
           {
            "colorbar": {
             "outlinewidth": 0,
             "ticks": ""
            },
            "colorscale": [
             [
              0,
              "#0d0887"
             ],
             [
              0.1111111111111111,
              "#46039f"
             ],
             [
              0.2222222222222222,
              "#7201a8"
             ],
             [
              0.3333333333333333,
              "#9c179e"
             ],
             [
              0.4444444444444444,
              "#bd3786"
             ],
             [
              0.5555555555555556,
              "#d8576b"
             ],
             [
              0.6666666666666666,
              "#ed7953"
             ],
             [
              0.7777777777777778,
              "#fb9f3a"
             ],
             [
              0.8888888888888888,
              "#fdca26"
             ],
             [
              1,
              "#f0f921"
             ]
            ],
            "type": "surface"
           }
          ],
          "table": [
           {
            "cells": {
             "fill": {
              "color": "#EBF0F8"
             },
             "line": {
              "color": "white"
             }
            },
            "header": {
             "fill": {
              "color": "#C8D4E3"
             },
             "line": {
              "color": "white"
             }
            },
            "type": "table"
           }
          ]
         },
         "layout": {
          "annotationdefaults": {
           "arrowcolor": "#2a3f5f",
           "arrowhead": 0,
           "arrowwidth": 1
          },
          "autotypenumbers": "strict",
          "coloraxis": {
           "colorbar": {
            "outlinewidth": 0,
            "ticks": ""
           }
          },
          "colorscale": {
           "diverging": [
            [
             0,
             "#8e0152"
            ],
            [
             0.1,
             "#c51b7d"
            ],
            [
             0.2,
             "#de77ae"
            ],
            [
             0.3,
             "#f1b6da"
            ],
            [
             0.4,
             "#fde0ef"
            ],
            [
             0.5,
             "#f7f7f7"
            ],
            [
             0.6,
             "#e6f5d0"
            ],
            [
             0.7,
             "#b8e186"
            ],
            [
             0.8,
             "#7fbc41"
            ],
            [
             0.9,
             "#4d9221"
            ],
            [
             1,
             "#276419"
            ]
           ],
           "sequential": [
            [
             0,
             "#0d0887"
            ],
            [
             0.1111111111111111,
             "#46039f"
            ],
            [
             0.2222222222222222,
             "#7201a8"
            ],
            [
             0.3333333333333333,
             "#9c179e"
            ],
            [
             0.4444444444444444,
             "#bd3786"
            ],
            [
             0.5555555555555556,
             "#d8576b"
            ],
            [
             0.6666666666666666,
             "#ed7953"
            ],
            [
             0.7777777777777778,
             "#fb9f3a"
            ],
            [
             0.8888888888888888,
             "#fdca26"
            ],
            [
             1,
             "#f0f921"
            ]
           ],
           "sequentialminus": [
            [
             0,
             "#0d0887"
            ],
            [
             0.1111111111111111,
             "#46039f"
            ],
            [
             0.2222222222222222,
             "#7201a8"
            ],
            [
             0.3333333333333333,
             "#9c179e"
            ],
            [
             0.4444444444444444,
             "#bd3786"
            ],
            [
             0.5555555555555556,
             "#d8576b"
            ],
            [
             0.6666666666666666,
             "#ed7953"
            ],
            [
             0.7777777777777778,
             "#fb9f3a"
            ],
            [
             0.8888888888888888,
             "#fdca26"
            ],
            [
             1,
             "#f0f921"
            ]
           ]
          },
          "colorway": [
           "#636efa",
           "#EF553B",
           "#00cc96",
           "#ab63fa",
           "#FFA15A",
           "#19d3f3",
           "#FF6692",
           "#B6E880",
           "#FF97FF",
           "#FECB52"
          ],
          "font": {
           "color": "#2a3f5f"
          },
          "geo": {
           "bgcolor": "white",
           "lakecolor": "white",
           "landcolor": "#E5ECF6",
           "showlakes": true,
           "showland": true,
           "subunitcolor": "white"
          },
          "hoverlabel": {
           "align": "left"
          },
          "hovermode": "closest",
          "mapbox": {
           "style": "light"
          },
          "paper_bgcolor": "white",
          "plot_bgcolor": "#E5ECF6",
          "polar": {
           "angularaxis": {
            "gridcolor": "white",
            "linecolor": "white",
            "ticks": ""
           },
           "bgcolor": "#E5ECF6",
           "radialaxis": {
            "gridcolor": "white",
            "linecolor": "white",
            "ticks": ""
           }
          },
          "scene": {
           "xaxis": {
            "backgroundcolor": "#E5ECF6",
            "gridcolor": "white",
            "gridwidth": 2,
            "linecolor": "white",
            "showbackground": true,
            "ticks": "",
            "zerolinecolor": "white"
           },
           "yaxis": {
            "backgroundcolor": "#E5ECF6",
            "gridcolor": "white",
            "gridwidth": 2,
            "linecolor": "white",
            "showbackground": true,
            "ticks": "",
            "zerolinecolor": "white"
           },
           "zaxis": {
            "backgroundcolor": "#E5ECF6",
            "gridcolor": "white",
            "gridwidth": 2,
            "linecolor": "white",
            "showbackground": true,
            "ticks": "",
            "zerolinecolor": "white"
           }
          },
          "shapedefaults": {
           "line": {
            "color": "#2a3f5f"
           }
          },
          "ternary": {
           "aaxis": {
            "gridcolor": "white",
            "linecolor": "white",
            "ticks": ""
           },
           "baxis": {
            "gridcolor": "white",
            "linecolor": "white",
            "ticks": ""
           },
           "bgcolor": "#E5ECF6",
           "caxis": {
            "gridcolor": "white",
            "linecolor": "white",
            "ticks": ""
           }
          },
          "title": {
           "x": 0.05
          },
          "xaxis": {
           "automargin": true,
           "gridcolor": "white",
           "linecolor": "white",
           "ticks": "",
           "title": {
            "standoff": 15
           },
           "zerolinecolor": "white",
           "zerolinewidth": 2
          },
          "yaxis": {
           "automargin": true,
           "gridcolor": "white",
           "linecolor": "white",
           "ticks": "",
           "title": {
            "standoff": 15
           },
           "zerolinecolor": "white",
           "zerolinewidth": 2
          }
         }
        },
        "xaxis": {
         "anchor": "y",
         "domain": [
          0,
          1
         ],
         "title": {
          "text": "season"
         }
        },
        "yaxis": {
         "anchor": "x",
         "domain": [
          0,
          1
         ],
         "title": {
          "text": "rain"
         }
        }
       }
      }
     },
     "metadata": {},
     "output_type": "display_data"
    }
   ],
   "source": [
    "# Plotting the box plot for 'sunshine' using Plotly\n",
    "fig_sunshine = px.bar(coasts, \n",
    "                      x='season', \n",
    "                      y='sunshine', \n",
    "                      color='city', \n",
    "                      )\n",
    "fig_sunshine.show()\n",
    "\n",
    "# Plotting the box plot for 'rain' using Plotly\n",
    "fig_rain = px.bar(coasts, \n",
    "                  x='season', \n",
    "                  y='rain', \n",
    "                  color='city', \n",
    "                  )\n",
    "fig_rain.show()"
   ]
  },
  {
   "cell_type": "code",
   "execution_count": 15,
   "metadata": {},
   "outputs": [],
   "source": [
    "import matplotlib.pyplot as plt"
   ]
  },
  {
   "cell_type": "code",
   "execution_count": 16,
   "metadata": {},
   "outputs": [
    {
     "data": {
      "text/html": [
       "<div>\n",
       "<style scoped>\n",
       "    .dataframe tbody tr th:only-of-type {\n",
       "        vertical-align: middle;\n",
       "    }\n",
       "\n",
       "    .dataframe tbody tr th {\n",
       "        vertical-align: top;\n",
       "    }\n",
       "\n",
       "    .dataframe thead th {\n",
       "        text-align: right;\n",
       "    }\n",
       "</style>\n",
       "<table border=\"1\" class=\"dataframe\">\n",
       "  <thead>\n",
       "    <tr style=\"text-align: right;\">\n",
       "      <th></th>\n",
       "      <th>city</th>\n",
       "      <th>season</th>\n",
       "      <th>rain</th>\n",
       "      <th>sunshine</th>\n",
       "    </tr>\n",
       "  </thead>\n",
       "  <tbody>\n",
       "    <tr>\n",
       "      <th>16</th>\n",
       "      <td>San Diego</td>\n",
       "      <td>Fall</td>\n",
       "      <td>1.620000</td>\n",
       "      <td>238.666667</td>\n",
       "    </tr>\n",
       "    <tr>\n",
       "      <th>17</th>\n",
       "      <td>San Diego</td>\n",
       "      <td>Spring</td>\n",
       "      <td>0.533333</td>\n",
       "      <td>249.000000</td>\n",
       "    </tr>\n",
       "    <tr>\n",
       "      <th>18</th>\n",
       "      <td>San Diego</td>\n",
       "      <td>Summer</td>\n",
       "      <td>0.073333</td>\n",
       "      <td>269.000000</td>\n",
       "    </tr>\n",
       "    <tr>\n",
       "      <th>19</th>\n",
       "      <td>San Diego</td>\n",
       "      <td>Winter</td>\n",
       "      <td>1.220000</td>\n",
       "      <td>229.333333</td>\n",
       "    </tr>\n",
       "    <tr>\n",
       "      <th>20</th>\n",
       "      <td>San Francisco</td>\n",
       "      <td>Fall</td>\n",
       "      <td>1.496667</td>\n",
       "      <td>233.000000</td>\n",
       "    </tr>\n",
       "    <tr>\n",
       "      <th>21</th>\n",
       "      <td>San Francisco</td>\n",
       "      <td>Spring</td>\n",
       "      <td>1.806667</td>\n",
       "      <td>282.000000</td>\n",
       "    </tr>\n",
       "    <tr>\n",
       "      <th>22</th>\n",
       "      <td>San Francisco</td>\n",
       "      <td>Summer</td>\n",
       "      <td>3.006667</td>\n",
       "      <td>206.333333</td>\n",
       "    </tr>\n",
       "    <tr>\n",
       "      <th>23</th>\n",
       "      <td>San Francisco</td>\n",
       "      <td>Winter</td>\n",
       "      <td>1.576667</td>\n",
       "      <td>262.000000</td>\n",
       "    </tr>\n",
       "  </tbody>\n",
       "</table>\n",
       "</div>"
      ],
      "text/plain": [
       "             city  season      rain    sunshine\n",
       "16      San Diego    Fall  1.620000  238.666667\n",
       "17      San Diego  Spring  0.533333  249.000000\n",
       "18      San Diego  Summer  0.073333  269.000000\n",
       "19      San Diego  Winter  1.220000  229.333333\n",
       "20  San Francisco    Fall  1.496667  233.000000\n",
       "21  San Francisco  Spring  1.806667  282.000000\n",
       "22  San Francisco  Summer  3.006667  206.333333\n",
       "23  San Francisco  Winter  1.576667  262.000000"
      ]
     },
     "execution_count": 16,
     "metadata": {},
     "output_type": "execute_result"
    }
   ],
   "source": [
    "df_sd_sf = coasts[(coasts['city'] == 'San Diego') | (coasts['city'] == 'San Francisco')]\n",
    "df_sd_sf"
   ]
  },
  {
   "cell_type": "code",
   "execution_count": 17,
   "metadata": {},
   "outputs": [
    {
     "data": {
      "image/png": "[encoded data removed]",
      "text/plain": [
       "<Figure size 1000x600 with 1 Axes>"
      ]
     },
     "metadata": {},
     "output_type": "display_data"
    }
   ],
   "source": [
    "bar_width = 0.35\n",
    "index = np.arange(len(df_sd_sf) // 2)  # As we have 2 cities (San Diego and San Francisco)\n",
    "\n",
    "# Create figure and axis\n",
    "fig, ax = plt.subplots(figsize=(10, 6))\n",
    "\n",
    "# Split the DataFrame into San Diego and San Francisco\n",
    "sd_df = df_sd_sf[df_sd_sf['city'] == 'San Diego']\n",
    "sf_df = df_sd_sf[df_sd_sf['city'] == 'San Francisco']\n",
    "\n",
    "# Plot the bars for Sunshine for each city side by side\n",
    "bar1 = ax.bar(index - bar_width / 2, sd_df['sunshine'], bar_width, label='San Diego Sunshine', color='yellow')\n",
    "bar2 = ax.bar(index + bar_width / 2, sf_df['sunshine'], bar_width, label='San Francisco Sunshine', color='orange')\n",
    "\n",
    "# Add labels, title, and legend\n",
    "ax.set_xlabel('Season')\n",
    "ax.set_ylabel('Average Sunshine (hours)')\n",
    "ax.set_title('Average Sunshine Comparison: San Diego vs. San Francisco')\n",
    "ax.set_xticks(index)\n",
    "ax.set_xticklabels(sd_df['season'])\n",
    "ax.legend()\n",
    "\n",
    "# Show the plot\n",
    "plt.tight_layout()\n",
    "plt.show()"
   ]
  },
  {
   "cell_type": "code",
   "execution_count": 18,
   "metadata": {},
   "outputs": [
    {
     "data": {
      "image/png": "[encoded data removed]",
      "text/plain": [
       "<Figure size 1000x600 with 1 Axes>"
      ]
     },
     "metadata": {},
     "output_type": "display_data"
    }
   ],
   "source": [
    "bar_width = 0.35\n",
    "index = np.arange(len(df_sd_sf) // 2)  # As we have 2 cities (San Diego and San Francisco)\n",
    "\n",
    "# Create figure and axis\n",
    "fig, ax = plt.subplots(figsize=(10, 6))\n",
    "\n",
    "# Split the DataFrame into San Diego and San Francisco\n",
    "sd_df = df_sd_sf[df_sd_sf['city'] == 'San Diego']\n",
    "sf_df = df_sd_sf[df_sd_sf['city'] == 'San Francisco']\n",
    "\n",
    "# Plot the bars for Sunshine for each city side by side\n",
    "bar1 = ax.bar(index - bar_width / 2, sd_df['rain'], bar_width, label='San Diego Rain', color='blue')\n",
    "bar2 = ax.bar(index + bar_width / 2, sf_df['rain'], bar_width, label='San Francisco Rain', color='purple')\n",
    "\n",
    "# Add labels, title, and legend\n",
    "ax.set_xlabel('Season')\n",
    "ax.set_ylabel('Average Rain (inches)')\n",
    "ax.set_title('Average Rain Comparison: San Diego vs. San Francisco')\n",
    "ax.set_xticks(index)\n",
    "ax.set_xticklabels(sd_df['season'])\n",
    "ax.legend()\n",
    "\n",
    "# Show the plot\n",
    "plt.tight_layout()\n",
    "plt.show()"
   ]
  },
  {
   "cell_type": "code",
   "execution_count": 19,
   "metadata": {},
   "outputs": [
    {
     "data": {
      "text/html": [
       "<div>\n",
       "<style scoped>\n",
       "    .dataframe tbody tr th:only-of-type {\n",
       "        vertical-align: middle;\n",
       "    }\n",
       "\n",
       "    .dataframe tbody tr th {\n",
       "        vertical-align: top;\n",
       "    }\n",
       "\n",
       "    .dataframe thead th {\n",
       "        text-align: right;\n",
       "    }\n",
       "</style>\n",
       "<table border=\"1\" class=\"dataframe\">\n",
       "  <thead>\n",
       "    <tr style=\"text-align: right;\">\n",
       "      <th></th>\n",
       "      <th>city</th>\n",
       "      <th>season</th>\n",
       "      <th>rain</th>\n",
       "      <th>sunshine</th>\n",
       "    </tr>\n",
       "  </thead>\n",
       "  <tbody>\n",
       "    <tr>\n",
       "      <th>8</th>\n",
       "      <td>Miami</td>\n",
       "      <td>Fall</td>\n",
       "      <td>6.486667</td>\n",
       "      <td>214.333333</td>\n",
       "    </tr>\n",
       "    <tr>\n",
       "      <th>9</th>\n",
       "      <td>Miami</td>\n",
       "      <td>Spring</td>\n",
       "      <td>3.826667</td>\n",
       "      <td>273.666667</td>\n",
       "    </tr>\n",
       "    <tr>\n",
       "      <th>10</th>\n",
       "      <td>Miami</td>\n",
       "      <td>Summer</td>\n",
       "      <td>8.350000</td>\n",
       "      <td>260.333333</td>\n",
       "    </tr>\n",
       "    <tr>\n",
       "      <th>11</th>\n",
       "      <td>Miami</td>\n",
       "      <td>Winter</td>\n",
       "      <td>1.970000</td>\n",
       "      <td>219.333333</td>\n",
       "    </tr>\n",
       "    <tr>\n",
       "      <th>12</th>\n",
       "      <td>New York City</td>\n",
       "      <td>Fall</td>\n",
       "      <td>3.730000</td>\n",
       "      <td>205.666667</td>\n",
       "    </tr>\n",
       "    <tr>\n",
       "      <th>13</th>\n",
       "      <td>New York City</td>\n",
       "      <td>Spring</td>\n",
       "      <td>4.150000</td>\n",
       "      <td>239.333333</td>\n",
       "    </tr>\n",
       "    <tr>\n",
       "      <th>14</th>\n",
       "      <td>New York City</td>\n",
       "      <td>Summer</td>\n",
       "      <td>4.053333</td>\n",
       "      <td>287.333333</td>\n",
       "    </tr>\n",
       "    <tr>\n",
       "      <th>15</th>\n",
       "      <td>New York City</td>\n",
       "      <td>Winter</td>\n",
       "      <td>3.476667</td>\n",
       "      <td>160.000000</td>\n",
       "    </tr>\n",
       "  </tbody>\n",
       "</table>\n",
       "</div>"
      ],
      "text/plain": [
       "             city  season      rain    sunshine\n",
       "8           Miami    Fall  6.486667  214.333333\n",
       "9           Miami  Spring  3.826667  273.666667\n",
       "10          Miami  Summer  8.350000  260.333333\n",
       "11          Miami  Winter  1.970000  219.333333\n",
       "12  New York City    Fall  3.730000  205.666667\n",
       "13  New York City  Spring  4.150000  239.333333\n",
       "14  New York City  Summer  4.053333  287.333333\n",
       "15  New York City  Winter  3.476667  160.000000"
      ]
     },
     "execution_count": 19,
     "metadata": {},
     "output_type": "execute_result"
    }
   ],
   "source": [
    "df_m_nyc = coasts[(coasts['city'] == 'Miami') | (coasts['city'] == 'New York City')]\n",
    "df_m_nyc"
   ]
  },
  {
   "cell_type": "code",
   "execution_count": 21,
   "metadata": {},
   "outputs": [
    {
     "data": {
      "image/png": "[encoded data removed]",
      "text/plain": [
       "<Figure size 1000x600 with 1 Axes>"
      ]
     },
     "metadata": {},
     "output_type": "display_data"
    }
   ],
   "source": [
    "bar_width = 0.35\n",
    "index = np.arange(len(df_m_nyc) // 2)  # As we have 2 cities (San Diego and San Francisco)\n",
    "\n",
    "# Create figure and axis\n",
    "fig, ax = plt.subplots(figsize=(10, 6))\n",
    "\n",
    "# Split the DataFrame into San Diego and San Francisco\n",
    "Mi_df = df_m_nyc[df_m_nyc['city'] == 'Miami']\n",
    "nyc_df = df_m_nyc[df_m_nyc['city'] == 'New York City']\n",
    "\n",
    "# Plot the bars for Sunshine for each city side by side\n",
    "bar1 = ax.bar(index - bar_width / 2, Mi_df['sunshine'], bar_width, label='Miami Sunshine', color='yellow')\n",
    "bar2 = ax.bar(index + bar_width / 2, nyc_df['sunshine'], bar_width, label='New York City Sunshine', color='orange')\n",
    "\n",
    "# Add labels, title, and legend\n",
    "ax.set_xlabel('Season')\n",
    "ax.set_ylabel('Average Sunshine (hours)')\n",
    "ax.set_title('Average Sunshine Comparison: Miami vs. New York City')\n",
    "ax.set_xticks(index)\n",
    "ax.set_xticklabels(Mi_df['season'])\n",
    "ax.legend()\n",
    "\n",
    "# Show the plot\n",
    "plt.tight_layout()\n",
    "plt.show()"
   ]
  },
  {
   "cell_type": "code",
   "execution_count": 22,
   "metadata": {},
   "outputs": [
    {
     "data": {
      "image/png": "[encoded data removed]",
      "text/plain": [
       "<Figure size 1000x600 with 1 Axes>"
      ]
     },
     "metadata": {},
     "output_type": "display_data"
    }
   ],
   "source": [
    "bar_width = 0.35\n",
    "index = np.arange(len(df_m_nyc) // 2)  # As we have 2 cities (San Diego and San Francisco)\n",
    "\n",
    "# Create figure and axis\n",
    "fig, ax = plt.subplots(figsize=(10, 6))\n",
    "\n",
    "# Split the DataFrame into San Diego and San Francisco\n",
    "sd_df = df_m_nyc[df_m_nyc['city'] == 'Miami']\n",
    "sf_df = df_m_nyc[df_m_nyc['city'] == 'New York City']\n",
    "\n",
    "# Plot the bars for Sunshine for each city side by side\n",
    "bar1 = ax.bar(index - bar_width / 2, sd_df['rain'], bar_width, label='Miami Rain', color='blue')\n",
    "bar2 = ax.bar(index + bar_width / 2, sf_df['rain'], bar_width, label='New York City Rain', color='purple')\n",
    "\n",
    "# Add labels, title, and legend\n",
    "ax.set_xlabel('Season')\n",
    "ax.set_ylabel('Average Rain (inches)')\n",
    "ax.set_title('Average Rain Comparison: Miami vs. New York City')\n",
    "ax.set_xticks(index)\n",
    "ax.set_xticklabels(sd_df['season'])\n",
    "ax.legend()\n",
    "\n",
    "# Show the plot\n",
    "plt.tight_layout()\n",
    "plt.show()"
   ]
  },
  {
   "cell_type": "code",
   "execution_count": null,
   "metadata": {},
   "outputs": [],
   "source": []
  }
 ],
 "metadata": {
  "kernelspec": {
   "display_name": "dsc80",
   "language": "python",
   "name": "python3"
  },
  "language_info": {
   "codemirror_mode": {
    "name": "ipython",
    "version": 3
   },
   "file_extension": ".py",
   "mimetype": "text/x-python",
   "name": "python",
   "nbconvert_exporter": "python",
   "pygments_lexer": "ipython3",
   "version": "3.8.19"
  }
 },
 "nbformat": 4,
 "nbformat_minor": 2
}
